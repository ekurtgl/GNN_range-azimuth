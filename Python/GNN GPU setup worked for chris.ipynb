{
 "cells": [
  {
   "cell_type": "code",
   "execution_count": 3,
   "metadata": {
    "scrolled": true
   },
   "outputs": [
    {
     "name": "stdout",
     "output_type": "stream",
     "text": [
      "Found existing installation: torch 1.9.0\n",
      "Uninstalling torch-1.9.0:\n",
      "  Successfully uninstalled torch-1.9.0\n",
      "Found existing installation: torch-sparse 0.6.12\n",
      "Uninstalling torch-sparse-0.6.12:\n",
      "  Successfully uninstalled torch-sparse-0.6.12\n",
      "Found existing installation: torch-scatter 2.0.9\n",
      "Uninstalling torch-scatter-2.0.9:\n",
      "  Successfully uninstalled torch-scatter-2.0.9\n",
      "Found existing installation: torch-geometric 2.0.2\n",
      "Uninstalling torch-geometric-2.0.2:\n",
      "  Successfully uninstalled torch-geometric-2.0.2\n",
      "Found existing installation: torch-cluster 1.5.9\n",
      "Uninstalling torch-cluster-1.5.9:\n",
      "  Successfully uninstalled torch-cluster-1.5.9\n",
      "Found existing installation: torch-spline-conv 1.2.1\n",
      "Uninstalling torch-spline-conv-1.2.1:\n",
      "  Successfully uninstalled torch-spline-conv-1.2.1\n"
     ]
    }
   ],
   "source": [
    "!pip uninstall torch -y\n",
    "!pip uninstall torch-sparse -y\n",
    "!pip uninstall torch-scatter -y\n",
    "!pip uninstall torch-geometric -y\n",
    "!pip uninstall torch-cluster -y\n",
    "!pip uninstall torch-spline-conv -y"
   ]
  },
  {
   "cell_type": "code",
   "execution_count": 4,
   "metadata": {},
   "outputs": [
    {
     "name": "stdout",
     "output_type": "stream",
     "text": [
      "Defaulting to user installation because normal site-packages is not writeable\n",
      "Looking in links: https://data.pyg.org/whl/torch-1.9.0+cu102.html\n",
      "Collecting torch-scatter\n",
      "  Downloading https://data.pyg.org/whl/torch-1.9.0%2Bcu102/torch_scatter-2.0.9-cp37-cp37m-linux_x86_64.whl (8.0 MB)\n",
      "\u001b[K     |████████████████████████████████| 8.0 MB 5.3 MB/s eta 0:00:01\n",
      "\u001b[?25hCollecting torch-sparse\n",
      "  Downloading https://data.pyg.org/whl/torch-1.9.0%2Bcu102/torch_sparse-0.6.12-cp37-cp37m-linux_x86_64.whl (2.9 MB)\n",
      "\u001b[K     |████████████████████████████████| 2.9 MB 8.5 MB/s eta 0:00:01\n",
      "\u001b[?25hCollecting torch-cluster\n",
      "  Downloading https://data.pyg.org/whl/torch-1.9.0%2Bcu102/torch_cluster-1.5.9-cp37-cp37m-linux_x86_64.whl (1.4 MB)\n",
      "\u001b[K     |████████████████████████████████| 1.4 MB 3.4 MB/s eta 0:00:01\n",
      "\u001b[?25hCollecting torch-spline-conv\n",
      "  Downloading https://data.pyg.org/whl/torch-1.9.0%2Bcu102/torch_spline_conv-1.2.1-cp37-cp37m-linux_x86_64.whl (677 kB)\n",
      "\u001b[K     |████████████████████████████████| 677 kB 664 kB/s eta 0:00:01\n",
      "\u001b[?25hCollecting torch-geometric\n",
      "  Using cached torch_geometric-2.0.2-py3-none-any.whl\n",
      "Requirement already satisfied: jinja2 in /usr/local/lib/python3.7/site-packages (from torch-geometric) (2.10.3)\n",
      "Requirement already satisfied: pandas in /home/m/.local/lib/python3.7/site-packages (from torch-geometric) (1.0.3)\n",
      "Requirement already satisfied: scikit-learn in /usr/local/lib/python3.7/site-packages (from torch-geometric) (0.22)\n",
      "Requirement already satisfied: googledrivedownloader in /home/m/.local/lib/python3.7/site-packages (from torch-geometric) (0.4)\n",
      "Requirement already satisfied: pyparsing in /usr/local/lib/python3.7/site-packages (from torch-geometric) (2.4.2)\n",
      "Requirement already satisfied: tqdm in /home/m/.local/lib/python3.7/site-packages (from torch-geometric) (4.36.1)\n",
      "Requirement already satisfied: PyYAML in /usr/local/lib/python3.7/site-packages (from torch-geometric) (5.2)\n",
      "Requirement already satisfied: networkx in /home/m/.local/lib/python3.7/site-packages (from torch-geometric) (2.4)\n",
      "Requirement already satisfied: rdflib in /home/m/.local/lib/python3.7/site-packages (from torch-geometric) (5.0.0)\n",
      "Requirement already satisfied: numpy in /home/m/.local/lib/python3.7/site-packages (from torch-geometric) (1.18.5)\n",
      "Requirement already satisfied: scipy in /home/m/.local/lib/python3.7/site-packages (from torch-geometric) (1.4.1)\n",
      "Requirement already satisfied: yacs in /home/m/.local/lib/python3.7/site-packages (from torch-geometric) (0.1.8)\n",
      "Requirement already satisfied: requests in /home/m/.local/lib/python3.7/site-packages (from torch-geometric) (2.25.1)\n",
      "Requirement already satisfied: MarkupSafe>=0.23 in /usr/local/lib/python3.7/site-packages (from jinja2->torch-geometric) (1.1.1)\n",
      "Requirement already satisfied: decorator>=4.3.0 in /usr/local/lib/python3.7/site-packages (from networkx->torch-geometric) (4.4.1)\n",
      "Requirement already satisfied: pytz>=2017.2 in /home/m/.local/lib/python3.7/site-packages (from pandas->torch-geometric) (2020.1)\n",
      "Requirement already satisfied: python-dateutil>=2.6.1 in /usr/local/lib/python3.7/site-packages (from pandas->torch-geometric) (2.8.0)\n",
      "Requirement already satisfied: six>=1.5 in /home/m/.local/lib/python3.7/site-packages (from python-dateutil>=2.6.1->pandas->torch-geometric) (1.15.0)\n",
      "Requirement already satisfied: isodate in /home/m/.local/lib/python3.7/site-packages (from rdflib->torch-geometric) (0.6.0)\n",
      "Requirement already satisfied: idna<3,>=2.5 in /home/m/.local/lib/python3.7/site-packages (from requests->torch-geometric) (2.10)\n",
      "Requirement already satisfied: urllib3<1.27,>=1.21.1 in /home/m/.local/lib/python3.7/site-packages (from requests->torch-geometric) (1.26.4)\n",
      "Requirement already satisfied: certifi>=2017.4.17 in /home/m/.local/lib/python3.7/site-packages (from requests->torch-geometric) (2020.12.5)\n",
      "Requirement already satisfied: chardet<5,>=3.0.2 in /home/m/.local/lib/python3.7/site-packages (from requests->torch-geometric) (4.0.0)\n",
      "Requirement already satisfied: joblib>=0.11 in /usr/local/lib/python3.7/site-packages (from scikit-learn->torch-geometric) (0.14.0)\n",
      "Installing collected packages: torch-spline-conv, torch-sparse, torch-scatter, torch-geometric, torch-cluster\n",
      "Successfully installed torch-cluster-1.5.9 torch-geometric-2.0.2 torch-scatter-2.0.9 torch-sparse-0.6.12 torch-spline-conv-1.2.1\n",
      "\u001b[33mWARNING: You are using pip version 21.0.1; however, version 21.3.1 is available.\n",
      "You should consider upgrading via the '/usr/local/bin/python3.7 -m pip install --upgrade pip' command.\u001b[0m\n",
      "Note: you may need to restart the kernel to use updated packages.\n"
     ]
    }
   ],
   "source": [
    "pip install torch-scatter torch-sparse torch-cluster torch-spline-conv torch-geometric -f https://data.pyg.org/whl/torch-1.9.0+cu102.html"
   ]
  },
  {
   "cell_type": "code",
   "execution_count": 2,
   "metadata": {},
   "outputs": [
    {
     "name": "stdout",
     "output_type": "stream",
     "text": [
      "Defaulting to user installation because normal site-packages is not writeable\n",
      "Collecting torch==1.9.0\n",
      "  Using cached torch-1.9.0-cp37-cp37m-manylinux1_x86_64.whl (831.4 MB)\n",
      "Requirement already satisfied: typing-extensions in /home/m/.local/lib/python3.7/site-packages (from torch==1.9.0) (3.7.4.3)\n",
      "Installing collected packages: torch\n",
      "\u001b[33m  WARNING: The scripts convert-caffe2-to-onnx and convert-onnx-to-caffe2 are installed in '/home/m/.local/bin' which is not on PATH.\n",
      "  Consider adding this directory to PATH or, if you prefer to suppress this warning, use --no-warn-script-location.\u001b[0m\n",
      "\u001b[31mERROR: pip's dependency resolver does not currently take into account all the packages that are installed. This behaviour is the source of the following dependency conflicts.\n",
      "torchvision 0.8.1+cu110 requires torch==1.7.0, but you have torch 1.9.0 which is incompatible.\n",
      "torchaudio 0.7.0 requires torch==1.7.0, but you have torch 1.9.0 which is incompatible.\n",
      "lpctorch 0.1.4 requires numpy==1.17.2, but you have numpy 1.18.5 which is incompatible.\n",
      "lpctorch 0.1.4 requires torch==1.2.0, but you have torch 1.9.0 which is incompatible.\n",
      "lpctorch 0.1.4 requires torchaudio==0.3.0, but you have torchaudio 0.7.0 which is incompatible.\u001b[0m\n",
      "Successfully installed torch-1.9.0\n",
      "\u001b[33mWARNING: You are using pip version 21.0.1; however, version 21.3.1 is available.\n",
      "You should consider upgrading via the '/usr/local/bin/python3.7 -m pip install --upgrade pip' command.\u001b[0m\n"
     ]
    }
   ],
   "source": [
    "!pip install torch==1.9.0"
   ]
  },
  {
   "cell_type": "code",
   "execution_count": 1,
   "metadata": {},
   "outputs": [
    {
     "name": "stdout",
     "output_type": "stream",
     "text": [
      "Defaulting to user installation because normal site-packages is not writeable\n",
      "Collecting torch-geometric-temporal\n",
      "  Downloading torch_geometric_temporal-0.41.tar.gz (42 kB)\n",
      "\u001b[K     |████████████████████████████████| 42 kB 740 kB/s  eta 0:00:01\n",
      "\u001b[?25hCollecting decorator==4.4.2\n",
      "  Downloading decorator-4.4.2-py2.py3-none-any.whl (9.2 kB)\n",
      "Requirement already satisfied: torch in /home/m/.local/lib/python3.7/site-packages (from torch-geometric-temporal) (1.9.0)\n",
      "Requirement already satisfied: torch_sparse in /home/m/.local/lib/python3.7/site-packages (from torch-geometric-temporal) (0.6.12)\n",
      "Requirement already satisfied: torch_scatter in /home/m/.local/lib/python3.7/site-packages (from torch-geometric-temporal) (2.0.9)\n",
      "Requirement already satisfied: torch_cluster in /home/m/.local/lib/python3.7/site-packages (from torch-geometric-temporal) (1.5.9)\n",
      "Requirement already satisfied: torch_spline_conv in /home/m/.local/lib/python3.7/site-packages (from torch-geometric-temporal) (1.2.1)\n",
      "Requirement already satisfied: torch_geometric in /home/m/.local/lib/python3.7/site-packages (from torch-geometric-temporal) (2.0.2)\n",
      "Requirement already satisfied: numpy in /home/m/.local/lib/python3.7/site-packages (from torch-geometric-temporal) (1.18.5)\n",
      "Requirement already satisfied: scipy in /home/m/.local/lib/python3.7/site-packages (from torch-geometric-temporal) (1.4.1)\n",
      "Requirement already satisfied: tqdm in /home/m/.local/lib/python3.7/site-packages (from torch-geometric-temporal) (4.36.1)\n",
      "Requirement already satisfied: six in /home/m/.local/lib/python3.7/site-packages (from torch-geometric-temporal) (1.15.0)\n",
      "Requirement already satisfied: typing-extensions in /home/m/.local/lib/python3.7/site-packages (from torch->torch-geometric-temporal) (3.7.4.3)\n",
      "Requirement already satisfied: pyparsing in /usr/local/lib/python3.7/site-packages (from torch_geometric->torch-geometric-temporal) (2.4.2)\n",
      "Requirement already satisfied: networkx in /home/m/.local/lib/python3.7/site-packages (from torch_geometric->torch-geometric-temporal) (2.4)\n",
      "Requirement already satisfied: rdflib in /home/m/.local/lib/python3.7/site-packages (from torch_geometric->torch-geometric-temporal) (5.0.0)\n",
      "Requirement already satisfied: scikit-learn in /usr/local/lib/python3.7/site-packages (from torch_geometric->torch-geometric-temporal) (0.22)\n",
      "Requirement already satisfied: googledrivedownloader in /home/m/.local/lib/python3.7/site-packages (from torch_geometric->torch-geometric-temporal) (0.4)\n",
      "Requirement already satisfied: requests in /home/m/.local/lib/python3.7/site-packages (from torch_geometric->torch-geometric-temporal) (2.25.1)\n",
      "Requirement already satisfied: pandas in /home/m/.local/lib/python3.7/site-packages (from torch_geometric->torch-geometric-temporal) (1.0.3)\n",
      "Requirement already satisfied: PyYAML in /usr/local/lib/python3.7/site-packages (from torch_geometric->torch-geometric-temporal) (5.2)\n",
      "Requirement already satisfied: jinja2 in /usr/local/lib/python3.7/site-packages (from torch_geometric->torch-geometric-temporal) (2.10.3)\n",
      "Requirement already satisfied: yacs in /home/m/.local/lib/python3.7/site-packages (from torch_geometric->torch-geometric-temporal) (0.1.8)\n",
      "Requirement already satisfied: MarkupSafe>=0.23 in /usr/local/lib/python3.7/site-packages (from jinja2->torch_geometric->torch-geometric-temporal) (1.1.1)\n",
      "Requirement already satisfied: pytz>=2017.2 in /home/m/.local/lib/python3.7/site-packages (from pandas->torch_geometric->torch-geometric-temporal) (2020.1)\n",
      "Requirement already satisfied: python-dateutil>=2.6.1 in /usr/local/lib/python3.7/site-packages (from pandas->torch_geometric->torch-geometric-temporal) (2.8.0)\n",
      "Requirement already satisfied: isodate in /home/m/.local/lib/python3.7/site-packages (from rdflib->torch_geometric->torch-geometric-temporal) (0.6.0)\n",
      "Requirement already satisfied: chardet<5,>=3.0.2 in /home/m/.local/lib/python3.7/site-packages (from requests->torch_geometric->torch-geometric-temporal) (4.0.0)\n",
      "Requirement already satisfied: idna<3,>=2.5 in /home/m/.local/lib/python3.7/site-packages (from requests->torch_geometric->torch-geometric-temporal) (2.10)\n",
      "Requirement already satisfied: urllib3<1.27,>=1.21.1 in /home/m/.local/lib/python3.7/site-packages (from requests->torch_geometric->torch-geometric-temporal) (1.26.4)\n",
      "Requirement already satisfied: certifi>=2017.4.17 in /home/m/.local/lib/python3.7/site-packages (from requests->torch_geometric->torch-geometric-temporal) (2020.12.5)\n",
      "Requirement already satisfied: joblib>=0.11 in /usr/local/lib/python3.7/site-packages (from scikit-learn->torch_geometric->torch-geometric-temporal) (0.14.0)\n",
      "Building wheels for collected packages: torch-geometric-temporal\n",
      "  Building wheel for torch-geometric-temporal (setup.py) ... \u001b[?25ldone\n",
      "\u001b[?25h  Created wheel for torch-geometric-temporal: filename=torch_geometric_temporal-0.41-py3-none-any.whl size=69656 sha256=d5bc41fd9c3dbd6d104aa7a84e805e378bf62d032920acc54551cf04b7ff0a8b\n",
      "  Stored in directory: /home/m/.cache/pip/wheels/d9/96/b2/641bbc9d0b104f4edbfe7b679a516abb3abc7777ea76a77a16\n",
      "Successfully built torch-geometric-temporal\n",
      "Installing collected packages: decorator, torch-geometric-temporal\n",
      "Successfully installed decorator-4.4.2 torch-geometric-temporal-0.41\n",
      "\u001b[33mWARNING: You are using pip version 21.0.1; however, version 21.3.1 is available.\n",
      "You should consider upgrading via the '/usr/local/bin/python3.7 -m pip install --upgrade pip' command.\u001b[0m\n"
     ]
    }
   ],
   "source": [
    "!pip install torch-geometric-temporal"
   ]
  },
  {
   "cell_type": "code",
   "execution_count": null,
   "metadata": {},
   "outputs": [],
   "source": []
  }
 ],
 "metadata": {
  "kernelspec": {
   "display_name": "Python 3",
   "language": "python",
   "name": "python3"
  },
  "language_info": {
   "codemirror_mode": {
    "name": "ipython",
    "version": 3
   },
   "file_extension": ".py",
   "mimetype": "text/x-python",
   "name": "python",
   "nbconvert_exporter": "python",
   "pygments_lexer": "ipython3",
   "version": "3.7.2"
  }
 },
 "nbformat": 4,
 "nbformat_minor": 2
}
