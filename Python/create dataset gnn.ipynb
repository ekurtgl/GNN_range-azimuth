{
 "cells": [
  {
   "cell_type": "code",
   "execution_count": 1,
   "metadata": {},
   "outputs": [
    {
     "name": "stdout",
     "output_type": "stream",
     "text": [
      "File to be created: datasets/RDAzimuth.pkl\n"
     ]
    }
   ],
   "source": [
    "from random import shuffle\n",
    "import glob,h5py, cv2, scipy, pickle, itertools, re\n",
    "import numpy as np\n",
    "from IPython.display import clear_output\n",
    "from pandas import read_csv\n",
    "from tensorflow.keras.utils import to_categorical\n",
    "from sklearn.model_selection import train_test_split\n",
    "import scipy.io as sio\n",
    "import mat73\n",
    "from collections import Counter\n",
    "from tqdm import tqdm\n",
    "subj = 'RDAzimuth'\n",
    "filename = 'datasets/'+subj+'.pkl' # _resized\n",
    "print('File to be created: ' + filename)"
   ]
  },
  {
   "cell_type": "code",
   "execution_count": 3,
   "metadata": {},
   "outputs": [
    {
     "name": "stdout",
     "output_type": "stream",
     "text": [
      "Num. Files: 5000\n"
     ]
    }
   ],
   "source": [
    "mdpath = '../../'+subj+'/cut/*.mat'\n",
    "addr = glob.glob(mdpath)\n",
    "addr = addr[:5000]\n",
    "print('Num. Files: '+str(len(addr)))"
   ]
  },
  {
   "cell_type": "code",
   "execution_count": 5,
   "metadata": {},
   "outputs": [
    {
     "data": {
      "text/plain": [
       "'../../RDAzimuth/cut/11090030_1603581805_Raw_0_12_014.mat'"
      ]
     },
     "execution_count": 5,
     "metadata": {},
     "output_type": "execute_result"
    }
   ],
   "source": [
    "addr[0]"
   ]
  },
  {
   "cell_type": "code",
   "execution_count": 11,
   "metadata": {},
   "outputs": [
    {
     "data": {
      "text/plain": [
       "'09'"
      ]
     },
     "execution_count": 11,
     "metadata": {},
     "output_type": "execute_result"
    }
   ],
   "source": [
    "slash_id = addr[0].rfind(\"/\")\n",
    "class_id = slash_id+3\n",
    "class_id\n",
    "addr[0][class_id:class_id+2]"
   ]
  },
  {
   "cell_type": "code",
   "execution_count": 24,
   "metadata": {},
   "outputs": [
    {
     "name": "stdout",
     "output_type": "stream",
     "text": [
      "5000\n",
      "Classes:  [ 0  1  2  3  4  5  6  7  8  9 10 11 12 13 14 15 16 17 18 19]\n"
     ]
    },
    {
     "data": {
      "text/plain": [
       "Counter({8: 286,\n",
       "         18: 270,\n",
       "         11: 292,\n",
       "         19: 296,\n",
       "         9: 302,\n",
       "         2: 318,\n",
       "         5: 107,\n",
       "         17: 264,\n",
       "         0: 211,\n",
       "         7: 256,\n",
       "         1: 210,\n",
       "         13: 202,\n",
       "         4: 172,\n",
       "         14: 264,\n",
       "         10: 319,\n",
       "         16: 200,\n",
       "         3: 393,\n",
       "         12: 181,\n",
       "         6: 304,\n",
       "         15: 153})"
      ]
     },
     "execution_count": 24,
     "metadata": {},
     "output_type": "execute_result"
    }
   ],
   "source": [
    "labels = []\n",
    "for a in addr:\n",
    "    labels.append(int(a[class_id:class_id+2])-1)\n",
    "print(len(labels))\n",
    "assert len(labels) == len(addr)\n",
    "print('Classes: ', np.unique(sorted(labels)))\n",
    "Counter(labels)"
   ]
  },
  {
   "cell_type": "code",
   "execution_count": 19,
   "metadata": {},
   "outputs": [
    {
     "data": {
      "text/plain": [
       "(55, 256, 8)"
      ]
     },
     "execution_count": 19,
     "metadata": {},
     "output_type": "execute_result"
    }
   ],
   "source": [
    "data = mat73.loadmat(addr[0])['crop_frame']\n",
    "data.shape"
   ]
  },
  {
   "cell_type": "code",
   "execution_count": 21,
   "metadata": {},
   "outputs": [
    {
     "name": "stderr",
     "output_type": "stream",
     "text": [
      "100%|██████████| 5000/5000 [04:10<00:00, 19.96it/s]\n"
     ]
    },
    {
     "data": {
      "text/plain": [
       "(5000, 55, 256, 8)"
      ]
     },
     "execution_count": 21,
     "metadata": {},
     "output_type": "execute_result"
    }
   ],
   "source": [
    "dataset = np.array([mat73.loadmat(add)['crop_frame'] for add in tqdm(addr,position=0)])\n",
    "dataset.shape"
   ]
  },
  {
   "cell_type": "code",
   "execution_count": 25,
   "metadata": {},
   "outputs": [
    {
     "name": "stdout",
     "output_type": "stream",
     "text": [
      "(4000, 55, 256, 8)\n",
      "(4000, 20)\n",
      "(1000, 55, 256, 8)\n",
      "(1000, 20)\n"
     ]
    }
   ],
   "source": [
    "x_tr, x_ts, y_tr, y_ts = train_test_split(dataset,np.array(to_categorical(labels)),test_size=0.2,random_state=1)\n",
    "print(x_tr.shape)\n",
    "print(y_tr.shape)\n",
    "print(x_ts.shape)\n",
    "print(y_ts.shape)"
   ]
  },
  {
   "cell_type": "code",
   "execution_count": 26,
   "metadata": {},
   "outputs": [
    {
     "name": "stdout",
     "output_type": "stream",
     "text": [
      "datasets/RDAzimuth.pkl created.\n"
     ]
    }
   ],
   "source": [
    "data = [x_tr,x_ts,y_tr,y_ts]\n",
    "with open(filename, 'wb') as output:  # Overwrites any existing file.\n",
    "        pickle.dump(data, output, pickle.HIGHEST_PROTOCOL)\n",
    "print(filename+' created.')"
   ]
  },
  {
   "cell_type": "code",
   "execution_count": null,
   "metadata": {},
   "outputs": [],
   "source": []
  }
 ],
 "metadata": {
  "kernelspec": {
   "display_name": "Python 3",
   "language": "python",
   "name": "python3"
  },
  "language_info": {
   "codemirror_mode": {
    "name": "ipython",
    "version": 3
   },
   "file_extension": ".py",
   "mimetype": "text/x-python",
   "name": "python",
   "nbconvert_exporter": "python",
   "pygments_lexer": "ipython3",
   "version": "3.7.2"
  }
 },
 "nbformat": 4,
 "nbformat_minor": 2
}
