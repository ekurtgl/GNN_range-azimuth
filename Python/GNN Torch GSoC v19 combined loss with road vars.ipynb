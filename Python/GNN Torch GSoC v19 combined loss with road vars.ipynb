{
 "cells": [
  {
   "cell_type": "code",
   "execution_count": 1,
   "id": "9abb1e08",
   "metadata": {},
   "outputs": [
    {
     "name": "stdout",
     "output_type": "stream",
     "text": [
      "1.9.0+cu111\n",
      "11.1\n"
     ]
    }
   ],
   "source": [
    "import torch\n",
    "print(torch.__version__)\n",
    "print(torch.version.cuda)"
   ]
  },
  {
   "cell_type": "code",
   "execution_count": 2,
   "id": "ebcf7757",
   "metadata": {},
   "outputs": [],
   "source": [
    "from typing import Union, Tuple\n",
    "from torch_geometric.typing import OptPairTensor, Adj, Size # Optional[Tensor], Union[Tensor, SparseTensor], Optional[Tuple[int, int]], all about data type\n",
    "\n",
    "from torch import Tensor\n",
    "from torch.nn import Linear\n",
    "import torch.nn.functional as F\n",
    "from torch_sparse import SparseTensor, matmul\n",
    "from torch_geometric.nn.conv import MessagePassing"
   ]
  },
  {
   "cell_type": "code",
   "execution_count": 3,
   "id": "c60f7c4c",
   "metadata": {},
   "outputs": [],
   "source": [
    "import warnings\n",
    "warnings.filterwarnings(\"ignore\")\n",
    "import os\n",
    "import time\n",
    "import random\n",
    "from tqdm import tqdm\n",
    "import pandas as pd\n",
    "import numpy as np\n",
    "import matplotlib.pyplot as plt\n",
    "\n",
    "from joblib import Parallel, delayed\n",
    "\n",
    "from sklearn.preprocessing import StandardScaler, MinMaxScaler\n",
    "from sklearn.model_selection import train_test_split\n",
    "\n",
    "import torch\n",
    "import torch.nn.functional as F\n",
    "import torch_geometric.nn as gnn\n",
    "from torch_geometric.nn import MessagePassing\n",
    "from torch_geometric.data import Dataset, Data, DataLoader\n",
    "from torch_geometric.nn import global_mean_pool as gap, global_max_pool as gmp\n",
    "from torch_geometric.utils import softmax"
   ]
  },
  {
   "cell_type": "code",
   "execution_count": 4,
   "id": "0f15e8a3",
   "metadata": {},
   "outputs": [],
   "source": [
    "inv = 0"
   ]
  },
  {
   "cell_type": "code",
   "execution_count": 5,
   "id": "dd4372e0",
   "metadata": {},
   "outputs": [
    {
     "name": "stdout",
     "output_type": "stream",
     "text": [
      "Index(['Unnamed: 0', 'Phi_0', 'Phi_2', 'Phi_3', 'Phi_4', 'Theta_0', 'Theta_2',\n",
      "       'Theta_3', 'Theta_4', 'BendingAngle_0', 'BendingAngle_2',\n",
      "       'BendingAngle_3', 'BendingAngle_4', 'TimeInfo_0', 'TimeInfo_2',\n",
      "       'TimeInfo_3', 'TimeInfo_4', 'RingNumber_0', 'RingNumber_2',\n",
      "       'RingNumber_3', 'RingNumber_4', 'Front_0', 'Front_2', 'Front_3',\n",
      "       'Front_4', 'Mask_0', 'Mask_2', 'Mask_3', 'Mask_4',\n",
      "       'PatternStraightness', 'Zone', 'MedianTheta', 'q/pt', 'PhiAngle',\n",
      "       'EtaAngle'],\n",
      "      dtype='object')\n"
     ]
    }
   ],
   "source": [
    "df = pd.read_csv('input/CMS_trigger.csv')\n",
    "print(df.columns)\n",
    "df\n",
    "\n",
    "scaler_1 = StandardScaler()\n",
    "df.loc[:,'Phi_0':'MedianTheta'] = scaler_1.fit_transform(df.loc[:,'Phi_0':'MedianTheta']) # normalize"
   ]
  },
  {
   "cell_type": "code",
   "execution_count": 6,
   "id": "2b48bba1",
   "metadata": {},
   "outputs": [],
   "source": [
    "features = ['Phi_'+str(i) for i in [0,2,3,4]] + ['Theta_'+str(i) for i in [0,2,3,4]] + \\\n",
    "['Front_'+str(i) for i in [0,2,3,4]] + ['BendingAngle_'+str(i) for i in [0,2,3,4]] + \\\n",
    "['RingNumber_'+str(i) for i in [0,2,3,4]] + \\\n",
    "['TimeInfo_'+str(i) for i in [0,2,3,4]] + ['Mask_'+str(i) for i in [0,2,3,4]] + ['PatternStraightness'] + ['Zone'] + ['MedianTheta']\n",
    "# edge_index = torch.tensor([(0,1),(1,2),(2,3),(3,2),(2,1),(1,0)], dtype=torch.long).T\n",
    "edge_index = [(0,1),(1,2),(2,3),(3,2),(2,1),(1,0)]\n",
    "# edge_index = [(0,1),(1,2),(2,3),(2,4),(1,0),(2,1),(3,2),(4,2)]\n",
    "# edge_index = [(0,1),(1,2),(2,3),(2,4),(1,0),(0,2),(2,1),(3,2),(4,2),(2,5),(2,6),(5,2),(6,2)]\n",
    "# edge_index = [(0,1),(1,2),(2,3),(2,4),(1,0),(2,1),(3,2),(4,2),(3,4),(4,3),(1,3),(1,4),(0,3),(0,4),(0,2)]"
   ]
  },
  {
   "cell_type": "code",
   "execution_count": 9,
   "id": "d7a67d8b",
   "metadata": {},
   "outputs": [
    {
     "name": "stdout",
     "output_type": "stream",
     "text": [
      "Data shape: (1179356, 32)\n",
      "(1179356,)\n",
      "Len train: 943484, Len test: 235872\n",
      "Num. features: 32\n"
     ]
    }
   ],
   "source": [
    "# x_train, x_test, pT_tr, pT_ts, inv_pT_tr, inv_pT_ts = train_test_split(df[features].to_numpy(), abs(1/df.loc[:,'q/pt']).to_numpy(), 1/abs(1/df.loc[:,'q/pt']).to_numpy(), test_size = 0.2, random_state = 1)\n",
    "train_mask, test_mask = train_test_split(df['Unnamed: 0'].to_numpy(), test_size = 0.2, random_state = 1)\n",
    "x_data = df[features].to_numpy()\n",
    "x_data = np.concatenate([x_data,np.zeros([len(x_data),1])],1)\n",
    "pT = abs(1/df.loc[:,'q/pt']).to_numpy()\n",
    "inv_pT = 1/pT\n",
    "if inv:\n",
    "    label = inv_pT\n",
    "else:\n",
    "    label = pT\n",
    "num_features = x_data.shape[-1]\n",
    "print('Data shape: ' + str(x_data.shape))\n",
    "print(pT.shape)\n",
    "print('Len train: '+str(len(train_mask))+', Len test: '+str(len(test_mask)))\n",
    "print('Num. features: '+str(num_features))"
   ]
  },
  {
   "cell_type": "code",
   "execution_count": 10,
   "id": "e6164f64",
   "metadata": {},
   "outputs": [],
   "source": [
    "def process_data(i):\n",
    "    \n",
    "    data = Data(x=torch.tensor(x_data[i].reshape(-1,4).T, dtype=torch.float), y=torch.tensor(label[i], dtype=torch.float),\n",
    "                edge_index=torch.tensor(edge_index, dtype = torch.long).T)\n",
    "    return data"
   ]
  },
  {
   "cell_type": "code",
   "execution_count": 11,
   "id": "9913a398",
   "metadata": {},
   "outputs": [],
   "source": [
    "class MPL(MessagePassing):\n",
    "    def __init__(self, in_channels, out_channels):\n",
    "        super(MPL, self).__init__(aggr='add')\n",
    "        self.mlp1 = torch.nn.Linear(in_channels*2, out_channels)\n",
    "        self.mlp2 = torch.nn.Linear(in_channels, out_channels)\n",
    "        self.mlp3 = torch.nn.Linear(2*out_channels, 1)\n",
    "        self.mlp4 = torch.nn.Linear(2*out_channels, 1)\n",
    "        self.mlp5 = torch.nn.Linear(in_channels,16)\n",
    "        self.mlp6 = torch.nn.Linear(out_channels,16)\n",
    "        self.mlp7 = torch.nn.Linear(16,1)\n",
    "\n",
    "    def forward(self, x, edge_index):\n",
    "#         edge_index, _ = add_self_loops(edge_index, num_nodes=x.size(0))\n",
    "        msg = self.propagate(edge_index, x=x)\n",
    "        x = F.relu(self.mlp2(x))\n",
    "        w1 = F.sigmoid(self.mlp3(torch.cat([x,msg], dim=1)))\n",
    "        w2 = F.sigmoid(self.mlp4(torch.cat([x,msg], dim=1)))\n",
    "        out = w1*msg + w2*x\n",
    "        \n",
    "        return out\n",
    "\n",
    "    def message(self, x_i, x_j, edge_index):\n",
    "        msg = F.relu(self.mlp1(torch.cat([x_i, x_j-x_i], dim=1)))\n",
    "        w1 = F.tanh(self.mlp5(x_i))\n",
    "        w2 = F.tanh(self.mlp6(msg))\n",
    "        w = self.mlp7(w1*w2)\n",
    "        w = softmax(w, edge_index[0])\n",
    "        return msg*w"
   ]
  },
  {
   "cell_type": "code",
   "execution_count": 21,
   "id": "c8afec54",
   "metadata": {
    "execution": {
     "iopub.execute_input": "2021-08-10T17:40:42.263759Z",
     "iopub.status.busy": "2021-08-10T17:40:42.262865Z",
     "iopub.status.idle": "2021-08-10T17:40:42.265080Z",
     "shell.execute_reply": "2021-08-10T17:40:42.265454Z",
     "shell.execute_reply.started": "2021-08-10T17:25:58.221924Z"
    },
    "papermill": {
     "duration": 0.510655,
     "end_time": "2021-08-10T17:40:42.265612",
     "exception": false,
     "start_time": "2021-08-10T17:40:41.754957",
     "status": "completed"
    },
    "tags": []
   },
   "outputs": [],
   "source": [
    "class MPNN(torch.nn.Module):\n",
    "    def __init__(self):\n",
    "        super(MPNN, self).__init__()\n",
    "        self.conv1 = MPL(int(len(features)/4)+1,128)\n",
    "        self.conv2 = MPL(128,64)\n",
    "        self.conv3 = MPL(64,64)\n",
    "        self.conv4 = MPL(64,64)\n",
    "        self.lin1 = torch.nn.Linear(128, 128)\n",
    "        self.lin2 = torch.nn.Linear(128, 16)\n",
    "        self.lin3 = torch.nn.Linear(16, 16)\n",
    "        self.lin4 = torch.nn.Linear(16, 1)\n",
    "        self.lin5 = torch.nn.Linear(128, 128)\n",
    "        self.lin6 = torch.nn.Linear(128, 16)\n",
    "        self.lin7 = torch.nn.Linear(16, 16)\n",
    "        self.lin8 = torch.nn.Linear(16, 1)\n",
    "        self.global_att_pool1 = gnn.GlobalAttention(torch.nn.Sequential(torch.nn.Linear(64, 1)))\n",
    "        self.global_att_pool2 = gnn.GlobalAttention(torch.nn.Sequential(torch.nn.Linear(64, 1)))\n",
    "    \n",
    "    def forward(self, data):\n",
    "        x, edge_index, batch = data.x, data.edge_index, data.batch\n",
    "        x = F.relu(self.conv1(x, edge_index))\n",
    "        x = F.relu(self.conv2(x, edge_index))\n",
    "        x1 = self.global_att_pool1(x, batch)\n",
    "        x = F.relu(self.conv3(x, edge_index))\n",
    "        x = F.relu(self.conv4(x, edge_index))\n",
    "        x2 = self.global_att_pool2(x, batch)\n",
    "        x_out = torch.cat([x1, x2], dim=1)\n",
    "        \n",
    "#         x = F.relu(self.lin1(x_out))\n",
    "#         x = F.relu(self.lin2(x))\n",
    "#         x = self.lin3(x)\n",
    "#         x = self.lin4(x).squeeze(1)\n",
    "        \n",
    "        x = F.relu(self.lin1(x_out))\n",
    "        x = F.relu(self.lin2(x))\n",
    "        x = self.lin3(x)\n",
    "        xf1 = self.lin4(x).squeeze(1)\n",
    "        x = F.relu(self.lin5(x_out))\n",
    "        x = F.relu(self.lin6(x))\n",
    "        x = self.lin7(x)\n",
    "        xf2 = F.sigmoid(self.lin8(x).squeeze(1))\n",
    "        \n",
    "        return xf1, xf2"
   ]
  },
  {
   "cell_type": "code",
   "execution_count": 22,
   "id": "708fa62b",
   "metadata": {
    "execution": {
     "iopub.execute_input": "2021-08-10T17:40:43.292769Z",
     "iopub.status.busy": "2021-08-10T17:40:43.259272Z",
     "iopub.status.idle": "2021-08-10T17:40:43.296181Z",
     "shell.execute_reply": "2021-08-10T17:40:43.295499Z",
     "shell.execute_reply.started": "2021-08-10T17:25:58.411377Z"
    },
    "papermill": {
     "duration": 0.537748,
     "end_time": "2021-08-10T17:40:43.296305",
     "exception": false,
     "start_time": "2021-08-10T17:40:42.758557",
     "status": "completed"
    },
    "tags": []
   },
   "outputs": [],
   "source": [
    "class MyDataset(Dataset):\n",
    "    def __init__(self, indices=list(range(len(df))), transform=None):\n",
    "        self.transform = transform\n",
    "        self.indices = indices\n",
    "    \n",
    "    def __getitem__(self, idx):\n",
    "        return process_data(self.indices[idx])\n",
    "    \n",
    "    def __len__(self):\n",
    "        return len(self.indices)"
   ]
  },
  {
   "cell_type": "code",
   "execution_count": 23,
   "id": "67d9c4cc",
   "metadata": {
    "execution": {
     "iopub.execute_input": "2021-08-10T17:40:44.492574Z",
     "iopub.status.busy": "2021-08-10T17:40:44.491693Z",
     "iopub.status.idle": "2021-08-10T17:40:44.494383Z",
     "shell.execute_reply": "2021-08-10T17:40:44.493973Z",
     "shell.execute_reply.started": "2021-08-10T17:25:59.046744Z"
    },
    "papermill": {
     "duration": 0.616057,
     "end_time": "2021-08-10T17:40:44.494503",
     "exception": false,
     "start_time": "2021-08-10T17:40:43.878446",
     "status": "completed"
    },
    "tags": []
   },
   "outputs": [],
   "source": [
    "# def mse_custom(outputs, labels):\n",
    "#     weights = torch.tensor(labels<80, dtype=torch.float).to(device)*labels + torch.tensor(labels>=80, dtype=torch.float).to(device)*torch.tensor(labels<160, dtype=torch.float).to(device)*labels*2.4 + torch.tensor(labels>=160, dtype=torch.float).to(device)*10\n",
    "#     error = weights*(((outputs-labels)/labels)**2)\n",
    "#     return torch.mean(error)"
   ]
  },
  {
   "cell_type": "code",
   "execution_count": 24,
   "id": "8617f391",
   "metadata": {
    "execution": {
     "iopub.execute_input": "2021-08-10T17:40:45.451345Z",
     "iopub.status.busy": "2021-08-10T17:40:45.450506Z",
     "iopub.status.idle": "2021-08-10T17:40:45.455992Z",
     "shell.execute_reply": "2021-08-10T17:40:45.456395Z",
     "shell.execute_reply.started": "2021-08-10T17:26:04.285593Z"
    },
    "papermill": {
     "duration": 0.489749,
     "end_time": "2021-08-10T17:40:45.456534",
     "exception": false,
     "start_time": "2021-08-10T17:40:44.966785",
     "status": "completed"
    },
    "tags": []
   },
   "outputs": [],
   "source": [
    "def multitask_mse(outputs, labels):\n",
    "    weights = torch.tensor(labels<80, dtype=torch.float).to(device)*labels + torch.tensor(labels>=80, dtype=torch.float).to(device)*torch.tensor(labels<160, dtype=torch.float).to(device)*labels*2.4 + torch.tensor(labels>=160, dtype=torch.float).to(device)*10\n",
    "    error = weights*(((outputs-labels)/labels)**2)\n",
    "    return torch.mean(error)"
   ]
  },
  {
   "cell_type": "code",
   "execution_count": 25,
   "id": "1adbbaac",
   "metadata": {
    "execution": {
     "iopub.execute_input": "2021-08-10T17:40:46.415020Z",
     "iopub.status.busy": "2021-08-10T17:40:46.413380Z",
     "iopub.status.idle": "2021-08-10T17:40:46.419495Z",
     "shell.execute_reply": "2021-08-10T17:40:46.419046Z",
     "shell.execute_reply.started": "2021-08-10T17:27:04.485189Z"
    },
    "papermill": {
     "duration": 0.490388,
     "end_time": "2021-08-10T17:40:46.419636",
     "exception": false,
     "start_time": "2021-08-10T17:40:45.929248",
     "status": "completed"
    },
    "tags": []
   },
   "outputs": [],
   "source": [
    "scale = 4e2\n",
    "mse2 = torch.nn.MSELoss()"
   ]
  },
  {
   "cell_type": "code",
   "execution_count": 26,
   "id": "e2649736",
   "metadata": {
    "execution": {
     "iopub.execute_input": "2021-08-10T17:40:47.414634Z",
     "iopub.status.busy": "2021-08-10T17:40:47.413717Z",
     "iopub.status.idle": "2021-08-10T17:40:47.415811Z",
     "shell.execute_reply": "2021-08-10T17:40:47.416295Z",
     "shell.execute_reply.started": "2021-08-10T17:27:04.726458Z"
    },
    "papermill": {
     "duration": 0.517788,
     "end_time": "2021-08-10T17:40:47.416435",
     "exception": false,
     "start_time": "2021-08-10T17:40:46.898647",
     "status": "completed"
    },
    "tags": []
   },
   "outputs": [],
   "source": [
    "def train(prog_bar = True):\n",
    "    \n",
    "    train_losses, test_losses = list(), list()\n",
    "    min_test_loss = float('inf')\n",
    "    train_loader = DataLoader(MyDataset(indices=train_mask), batch_size=batch_size)\n",
    "    test_loader = DataLoader(MyDataset(indices=test_mask), batch_size=batch_size)\n",
    "    \n",
    "    for epoch in range(epochs):\n",
    "        train_loss = 0\n",
    "        test_loss = 0\n",
    "        if prog_bar:\n",
    "            pbar = tqdm(train_loader,position=0)\n",
    "        else:\n",
    "            pbar = train_loader\n",
    "            \n",
    "        # train\n",
    "        for data in pbar:\n",
    "            data = data.to(device)\n",
    "            optimizer.zero_grad()\n",
    "            outputs1, outputs2 = model(data)\n",
    "            labels = data.y\n",
    "            loss = multitask_mse(outputs1, data.y) + scale*mse2(outputs2, 1/data.y)\n",
    "            loss.backward()\n",
    "            optimizer.step()\n",
    "            if prog_bar:\n",
    "                pbar.set_description('pTLoss: '+str(loss.cpu().detach().numpy()))\n",
    "                train_loss += loss.cpu().detach().numpy()/len(train_loader)\n",
    "                \n",
    "        # test\n",
    "        for data in test_loader:\n",
    "            data = data.to(device)\n",
    "            optimizer.zero_grad()\n",
    "            outputs1, outputs2 = model(data)\n",
    "            labels = data.y\n",
    "            loss = multitask_mse(outputs1, data.y) + scale*mse2(outputs2, 1/data.y)\n",
    "            test_loss += loss.cpu().detach().numpy()/len(test_loader)\n",
    "        if test_loss<min_test_loss:\n",
    "            print('Min loss changed from '+str(min_test_loss)+' to '+str(test_loss))\n",
    "            min_test_loss = test_loss\n",
    "            torch.save(model.state_dict(), model_name)\n",
    "        train_losses.append(train_loss)\n",
    "        test_losses.append(test_loss)\n",
    "        if epoch > 10 and min(test_losses[-7:])>min_test_loss+1e-9:\n",
    "            break\n",
    "        lr_scheduler.step(test_loss)\n",
    "        print('Epoch: ', str(epoch+1)+'/'+str(epochs),'| Training pTLoss: ', train_loss, '| Testing pTLoss: ', test_loss)\n",
    "        \n",
    "        if not prog_bar:\n",
    "            plt.plot(train_losses, label=\"Train Loss\")\n",
    "            plt.plot(test_losses, label=\"Validation Loss\")\n",
    "            plt.xlabel(\"# Epoch\")\n",
    "            plt.ylabel(\"Loss\")\n",
    "            plt.legend(loc='upper right')\n",
    "            plt.show()\n",
    "    return train_losses, test_losses"
   ]
  },
  {
   "cell_type": "code",
   "execution_count": 27,
   "id": "56ddb332",
   "metadata": {
    "scrolled": false
   },
   "outputs": [
    {
     "name": "stderr",
     "output_type": "stream",
     "text": [
      "pTLoss: 8.074457: 100%|████████████████████████████████████████████████████████████████| 58/58 [01:07<00:00,  1.17s/it]\n",
      "  0%|                                                                                           | 0/58 [00:00<?, ?it/s]"
     ]
    },
    {
     "name": "stdout",
     "output_type": "stream",
     "text": [
      "Min loss changed from inf to 7.990189425150554\n",
      "Epoch:  1/50 | Training pTLoss:  13.672740475884797 | Testing pTLoss:  7.990189425150554\n"
     ]
    },
    {
     "name": "stderr",
     "output_type": "stream",
     "text": [
      "pTLoss: 6.5709486: 100%|███████████████████████████████████████████████████████████████| 58/58 [01:09<00:00,  1.20s/it]\n",
      "  0%|                                                                                           | 0/58 [00:00<?, ?it/s]"
     ]
    },
    {
     "name": "stdout",
     "output_type": "stream",
     "text": [
      "Min loss changed from 7.990189425150554 to 6.649222342173258\n",
      "Epoch:  2/50 | Training pTLoss:  7.1317362456486135 | Testing pTLoss:  6.649222342173258\n"
     ]
    },
    {
     "name": "stderr",
     "output_type": "stream",
     "text": [
      "pTLoss: 6.1417203: 100%|███████████████████████████████████████████████████████████████| 58/58 [01:09<00:00,  1.20s/it]\n",
      "  0%|                                                                                           | 0/58 [00:00<?, ?it/s]"
     ]
    },
    {
     "name": "stdout",
     "output_type": "stream",
     "text": [
      "Min loss changed from 6.649222342173258 to 6.235939566294352\n",
      "Epoch:  3/50 | Training pTLoss:  6.468880382077448 | Testing pTLoss:  6.235939566294352\n"
     ]
    },
    {
     "name": "stderr",
     "output_type": "stream",
     "text": [
      "pTLoss: 5.5841727: 100%|███████████████████████████████████████████████████████████████| 58/58 [01:08<00:00,  1.18s/it]\n",
      "  0%|                                                                                           | 0/58 [00:00<?, ?it/s]"
     ]
    },
    {
     "name": "stdout",
     "output_type": "stream",
     "text": [
      "Min loss changed from 6.235939566294352 to 5.395938841501871\n",
      "Epoch:  4/50 | Training pTLoss:  5.976469664738095 | Testing pTLoss:  5.395938841501871\n"
     ]
    },
    {
     "name": "stderr",
     "output_type": "stream",
     "text": [
      "pTLoss: 3.0100605: 100%|███████████████████████████████████████████████████████████████| 58/58 [01:09<00:00,  1.19s/it]\n",
      "  0%|                                                                                           | 0/58 [00:00<?, ?it/s]"
     ]
    },
    {
     "name": "stdout",
     "output_type": "stream",
     "text": [
      "Min loss changed from 5.395938841501871 to 3.4226952393849692\n",
      "Epoch:  5/50 | Training pTLoss:  3.8853866478492476 | Testing pTLoss:  3.4226952393849692\n"
     ]
    },
    {
     "name": "stderr",
     "output_type": "stream",
     "text": [
      "pTLoss: 2.82546: 100%|█████████████████████████████████████████████████████████████████| 58/58 [01:09<00:00,  1.19s/it]\n",
      "  0%|                                                                                           | 0/58 [00:00<?, ?it/s]"
     ]
    },
    {
     "name": "stdout",
     "output_type": "stream",
     "text": [
      "Min loss changed from 3.4226952393849692 to 2.877654774983724\n",
      "Epoch:  6/50 | Training pTLoss:  2.895328147657986 | Testing pTLoss:  2.877654774983724\n"
     ]
    },
    {
     "name": "stderr",
     "output_type": "stream",
     "text": [
      "pTLoss: 2.675417: 100%|████████████████████████████████████████████████████████████████| 58/58 [01:08<00:00,  1.18s/it]\n",
      "  0%|                                                                                           | 0/58 [00:00<?, ?it/s]"
     ]
    },
    {
     "name": "stdout",
     "output_type": "stream",
     "text": [
      "Min loss changed from 2.877654774983724 to 2.7461835225423172\n",
      "Epoch:  7/50 | Training pTLoss:  2.6869321486045568 | Testing pTLoss:  2.7461835225423172\n"
     ]
    },
    {
     "name": "stderr",
     "output_type": "stream",
     "text": [
      "pTLoss: 2.5276566: 100%|███████████████████████████████████████████████████████████████| 58/58 [01:04<00:00,  1.12s/it]\n",
      "  0%|                                                                                           | 0/58 [00:00<?, ?it/s]"
     ]
    },
    {
     "name": "stdout",
     "output_type": "stream",
     "text": [
      "Min loss changed from 2.7461835225423172 to 2.7188809553782147\n",
      "Epoch:  8/50 | Training pTLoss:  2.5969521752719213 | Testing pTLoss:  2.7188809553782147\n"
     ]
    },
    {
     "name": "stderr",
     "output_type": "stream",
     "text": [
      "pTLoss: 2.4335072: 100%|███████████████████████████████████████████████████████████████| 58/58 [01:04<00:00,  1.12s/it]\n",
      "  0%|                                                                                           | 0/58 [00:00<?, ?it/s]"
     ]
    },
    {
     "name": "stdout",
     "output_type": "stream",
     "text": [
      "Min loss changed from 2.7188809553782147 to 2.6787744839986165\n",
      "Epoch:  9/50 | Training pTLoss:  2.5687692658654577 | Testing pTLoss:  2.6787744839986165\n"
     ]
    },
    {
     "name": "stderr",
     "output_type": "stream",
     "text": [
      "pTLoss: 2.4505854: 100%|███████████████████████████████████████████████████████████████| 58/58 [01:05<00:00,  1.13s/it]\n",
      "  0%|                                                                                           | 0/58 [00:00<?, ?it/s]"
     ]
    },
    {
     "name": "stdout",
     "output_type": "stream",
     "text": [
      "Min loss changed from 2.6787744839986165 to 2.5832404772440594\n",
      "Epoch:  10/50 | Training pTLoss:  2.521184403320838 | Testing pTLoss:  2.5832404772440594\n"
     ]
    },
    {
     "name": "stderr",
     "output_type": "stream",
     "text": [
      "pTLoss: 2.5255303: 100%|███████████████████████████████████████████████████████████████| 58/58 [01:07<00:00,  1.17s/it]\n",
      "  0%|                                                                                           | 0/58 [00:00<?, ?it/s]"
     ]
    },
    {
     "name": "stdout",
     "output_type": "stream",
     "text": [
      "Epoch:  11/50 | Training pTLoss:  2.533536795912117 | Testing pTLoss:  2.632106415430705\n"
     ]
    },
    {
     "name": "stderr",
     "output_type": "stream",
     "text": [
      "pTLoss: 2.4332008: 100%|███████████████████████████████████████████████████████████████| 58/58 [01:06<00:00,  1.14s/it]\n",
      "  0%|                                                                                           | 0/58 [00:00<?, ?it/s]"
     ]
    },
    {
     "name": "stdout",
     "output_type": "stream",
     "text": [
      "Min loss changed from 2.5832404772440594 to 2.4845922470092776\n",
      "Epoch:  12/50 | Training pTLoss:  2.489528142172714 | Testing pTLoss:  2.4845922470092776\n"
     ]
    },
    {
     "name": "stderr",
     "output_type": "stream",
     "text": [
      "pTLoss: 2.346668: 100%|████████████████████████████████████████████████████████████████| 58/58 [01:04<00:00,  1.12s/it]\n",
      "  0%|                                                                                           | 0/58 [00:00<?, ?it/s]"
     ]
    },
    {
     "name": "stdout",
     "output_type": "stream",
     "text": [
      "Min loss changed from 2.4845922470092776 to 2.438681077957153\n",
      "Epoch:  13/50 | Training pTLoss:  2.4470208554432307 | Testing pTLoss:  2.438681077957153\n"
     ]
    },
    {
     "name": "stderr",
     "output_type": "stream",
     "text": [
      "pTLoss: 2.3039093: 100%|███████████████████████████████████████████████████████████████| 58/58 [01:05<00:00,  1.12s/it]\n",
      "  0%|                                                                                           | 0/58 [00:00<?, ?it/s]"
     ]
    },
    {
     "name": "stdout",
     "output_type": "stream",
     "text": [
      "Epoch:  14/50 | Training pTLoss:  2.4018620293715904 | Testing pTLoss:  2.457957553863526\n"
     ]
    },
    {
     "name": "stderr",
     "output_type": "stream",
     "text": [
      "pTLoss: 2.3301713: 100%|███████████████████████████████████████████████████████████████| 58/58 [01:04<00:00,  1.10s/it]\n",
      "  0%|                                                                                           | 0/58 [00:00<?, ?it/s]"
     ]
    },
    {
     "name": "stdout",
     "output_type": "stream",
     "text": [
      "Epoch    15: reducing learning rate of group 0 to 5.0000e-03.\n",
      "Epoch:  15/50 | Training pTLoss:  2.4082376258126614 | Testing pTLoss:  2.5129272143046064\n"
     ]
    },
    {
     "name": "stderr",
     "output_type": "stream",
     "text": [
      "pTLoss: 2.2134194: 100%|███████████████████████████████████████████████████████████████| 58/58 [01:03<00:00,  1.10s/it]\n",
      "  0%|                                                                                           | 0/58 [00:00<?, ?it/s]"
     ]
    },
    {
     "name": "stdout",
     "output_type": "stream",
     "text": [
      "Min loss changed from 2.438681077957153 to 2.367256991068522\n",
      "Epoch:  16/50 | Training pTLoss:  2.321836352348327 | Testing pTLoss:  2.367256991068522\n"
     ]
    },
    {
     "name": "stderr",
     "output_type": "stream",
     "text": [
      "pTLoss: 2.1888657: 100%|███████████████████████████████████████████████████████████████| 58/58 [01:07<00:00,  1.16s/it]\n",
      "  0%|                                                                                           | 0/58 [00:00<?, ?it/s]"
     ]
    },
    {
     "name": "stdout",
     "output_type": "stream",
     "text": [
      "Min loss changed from 2.367256991068522 to 2.359126091003418\n",
      "Epoch:  17/50 | Training pTLoss:  2.2951661800516066 | Testing pTLoss:  2.359126091003418\n"
     ]
    },
    {
     "name": "stderr",
     "output_type": "stream",
     "text": [
      "pTLoss: 2.176219: 100%|████████████████████████████████████████████████████████████████| 58/58 [01:11<00:00,  1.23s/it]\n",
      "  0%|                                                                                           | 0/58 [00:00<?, ?it/s]"
     ]
    },
    {
     "name": "stdout",
     "output_type": "stream",
     "text": [
      "Min loss changed from 2.359126091003418 to 2.3393230915069583\n",
      "Epoch:  18/50 | Training pTLoss:  2.285623118795198 | Testing pTLoss:  2.3393230915069583\n"
     ]
    },
    {
     "name": "stderr",
     "output_type": "stream",
     "text": [
      "pTLoss: 2.1642303: 100%|███████████████████████████████████████████████████████████████| 58/58 [01:13<00:00,  1.27s/it]\n",
      "  0%|                                                                                           | 0/58 [00:00<?, ?it/s]"
     ]
    },
    {
     "name": "stdout",
     "output_type": "stream",
     "text": [
      "Min loss changed from 2.3393230915069583 to 2.3233396371205646\n",
      "Epoch:  19/50 | Training pTLoss:  2.275324171987073 | Testing pTLoss:  2.3233396371205646\n"
     ]
    },
    {
     "name": "stderr",
     "output_type": "stream",
     "text": [
      "pTLoss: 2.1582892: 100%|███████████████████████████████████████████████████████████████| 58/58 [01:14<00:00,  1.28s/it]\n",
      "  0%|                                                                                           | 0/58 [00:00<?, ?it/s]"
     ]
    },
    {
     "name": "stdout",
     "output_type": "stream",
     "text": [
      "Min loss changed from 2.3233396371205646 to 2.314676268895467\n",
      "Epoch:  20/50 | Training pTLoss:  2.265161769143467 | Testing pTLoss:  2.314676268895467\n"
     ]
    },
    {
     "name": "stderr",
     "output_type": "stream",
     "text": [
      "pTLoss: 2.1745903: 100%|███████████████████████████████████████████████████████████████| 58/58 [01:10<00:00,  1.22s/it]\n",
      "  0%|                                                                                           | 0/58 [00:00<?, ?it/s]"
     ]
    },
    {
     "name": "stdout",
     "output_type": "stream",
     "text": [
      "Epoch:  21/50 | Training pTLoss:  2.265319199397646 | Testing pTLoss:  2.3363502184549967\n"
     ]
    },
    {
     "name": "stderr",
     "output_type": "stream",
     "text": [
      "pTLoss: 2.1739936: 100%|███████████████████████████████████████████████████████████████| 58/58 [01:12<00:00,  1.24s/it]\n",
      "  0%|                                                                                           | 0/58 [00:00<?, ?it/s]"
     ]
    },
    {
     "name": "stdout",
     "output_type": "stream",
     "text": [
      "Epoch    22: reducing learning rate of group 0 to 2.5000e-03.\n",
      "Epoch:  22/50 | Training pTLoss:  2.258940577507019 | Testing pTLoss:  2.3326062520345054\n"
     ]
    },
    {
     "name": "stderr",
     "output_type": "stream",
     "text": [
      "pTLoss: 2.1300538: 100%|███████████████████████████████████████████████████████████████| 58/58 [01:11<00:00,  1.23s/it]\n",
      "  0%|                                                                                           | 0/58 [00:00<?, ?it/s]"
     ]
    },
    {
     "name": "stdout",
     "output_type": "stream",
     "text": [
      "Min loss changed from 2.314676268895467 to 2.2735421180725095\n",
      "Epoch:  23/50 | Training pTLoss:  2.215145242625269 | Testing pTLoss:  2.2735421180725095\n"
     ]
    },
    {
     "name": "stderr",
     "output_type": "stream",
     "text": [
      "pTLoss: 2.1216772: 100%|███████████████████████████████████████████████████████████████| 58/58 [01:10<00:00,  1.22s/it]\n",
      "  0%|                                                                                           | 0/58 [00:00<?, ?it/s]"
     ]
    },
    {
     "name": "stdout",
     "output_type": "stream",
     "text": [
      "Min loss changed from 2.2735421180725095 to 2.269461933771769\n",
      "Epoch:  24/50 | Training pTLoss:  2.1923650009878752 | Testing pTLoss:  2.269461933771769\n"
     ]
    },
    {
     "name": "stderr",
     "output_type": "stream",
     "text": [
      "pTLoss: 2.1250334: 100%|███████████████████████████████████████████████████████████████| 58/58 [01:09<00:00,  1.20s/it]\n",
      "  0%|                                                                                           | 0/58 [00:00<?, ?it/s]"
     ]
    },
    {
     "name": "stdout",
     "output_type": "stream",
     "text": [
      "Epoch:  25/50 | Training pTLoss:  2.187444444360404 | Testing pTLoss:  2.271911811828613\n"
     ]
    },
    {
     "name": "stderr",
     "output_type": "stream",
     "text": [
      "pTLoss: 2.1266017: 100%|███████████████████████████████████████████████████████████████| 58/58 [01:09<00:00,  1.19s/it]\n",
      "  0%|                                                                                           | 0/58 [00:00<?, ?it/s]"
     ]
    },
    {
     "name": "stdout",
     "output_type": "stream",
     "text": [
      "Epoch    26: reducing learning rate of group 0 to 1.2500e-03.\n",
      "Epoch:  26/50 | Training pTLoss:  2.1837667966711103 | Testing pTLoss:  2.2727776368459063\n"
     ]
    },
    {
     "name": "stderr",
     "output_type": "stream",
     "text": [
      "pTLoss: 2.083982: 100%|████████████████████████████████████████████████████████████████| 58/58 [01:07<00:00,  1.16s/it]\n",
      "  0%|                                                                                           | 0/58 [00:00<?, ?it/s]"
     ]
    },
    {
     "name": "stdout",
     "output_type": "stream",
     "text": [
      "Min loss changed from 2.269461933771769 to 2.249190886815389\n",
      "Epoch:  27/50 | Training pTLoss:  2.1550417398584303 | Testing pTLoss:  2.249190886815389\n"
     ]
    },
    {
     "name": "stderr",
     "output_type": "stream",
     "text": [
      "pTLoss: 2.077077: 100%|████████████████████████████████████████████████████████████████| 58/58 [01:10<00:00,  1.21s/it]\n",
      "  0%|                                                                                           | 0/58 [00:00<?, ?it/s]"
     ]
    },
    {
     "name": "stdout",
     "output_type": "stream",
     "text": [
      "Min loss changed from 2.249190886815389 to 2.246477794647217\n",
      "Epoch:  28/50 | Training pTLoss:  2.150848302347907 | Testing pTLoss:  2.246477794647217\n"
     ]
    },
    {
     "name": "stderr",
     "output_type": "stream",
     "text": [
      "pTLoss: 2.0686374: 100%|███████████████████████████████████████████████████████████████| 58/58 [01:10<00:00,  1.22s/it]\n",
      "  0%|                                                                                           | 0/58 [00:00<?, ?it/s]"
     ]
    },
    {
     "name": "stdout",
     "output_type": "stream",
     "text": [
      "Min loss changed from 2.246477794647217 to 2.2455040772755943\n",
      "Epoch:  29/50 | Training pTLoss:  2.146623819038786 | Testing pTLoss:  2.2455040772755943\n"
     ]
    },
    {
     "name": "stderr",
     "output_type": "stream",
     "text": [
      "pTLoss: 2.0647416: 100%|███████████████████████████████████████████████████████████████| 58/58 [01:12<00:00,  1.24s/it]\n",
      "  0%|                                                                                           | 0/58 [00:00<?, ?it/s]"
     ]
    },
    {
     "name": "stdout",
     "output_type": "stream",
     "text": [
      "Min loss changed from 2.2455040772755943 to 2.2449838002522786\n",
      "Epoch:  30/50 | Training pTLoss:  2.142912359073244 | Testing pTLoss:  2.2449838002522786\n"
     ]
    },
    {
     "name": "stderr",
     "output_type": "stream",
     "text": [
      "pTLoss: 2.0613923: 100%|███████████████████████████████████████████████████████████████| 58/58 [01:10<00:00,  1.22s/it]\n",
      "  0%|                                                                                           | 0/58 [00:00<?, ?it/s]"
     ]
    },
    {
     "name": "stdout",
     "output_type": "stream",
     "text": [
      "Min loss changed from 2.2449838002522786 to 2.2433238983154298\n",
      "Epoch:  31/50 | Training pTLoss:  2.1397510376469837 | Testing pTLoss:  2.2433238983154298\n"
     ]
    },
    {
     "name": "stderr",
     "output_type": "stream",
     "text": [
      "pTLoss: 2.058387: 100%|████████████████████████████████████████████████████████████████| 58/58 [01:07<00:00,  1.17s/it]\n",
      "  0%|                                                                                           | 0/58 [00:00<?, ?it/s]"
     ]
    },
    {
     "name": "stdout",
     "output_type": "stream",
     "text": [
      "Epoch:  32/50 | Training pTLoss:  2.1368142983009073 | Testing pTLoss:  2.2433718522389725\n"
     ]
    },
    {
     "name": "stderr",
     "output_type": "stream",
     "text": [
      "pTLoss: 2.057573: 100%|████████████████████████████████████████████████████████████████| 58/58 [01:07<00:00,  1.17s/it]\n",
      "  0%|                                                                                           | 0/58 [00:00<?, ?it/s]"
     ]
    },
    {
     "name": "stdout",
     "output_type": "stream",
     "text": [
      "Min loss changed from 2.2433238983154298 to 2.241991106669108\n",
      "Epoch:  33/50 | Training pTLoss:  2.1345103341957614 | Testing pTLoss:  2.241991106669108\n"
     ]
    },
    {
     "name": "stderr",
     "output_type": "stream",
     "text": [
      "pTLoss: 2.055706: 100%|████████████████████████████████████████████████████████████████| 58/58 [01:07<00:00,  1.16s/it]\n",
      "  0%|                                                                                           | 0/58 [00:00<?, ?it/s]"
     ]
    },
    {
     "name": "stdout",
     "output_type": "stream",
     "text": [
      "Min loss changed from 2.241991106669108 to 2.241777181625366\n",
      "Epoch:  34/50 | Training pTLoss:  2.131927823198253 | Testing pTLoss:  2.241777181625366\n"
     ]
    },
    {
     "name": "stderr",
     "output_type": "stream",
     "text": [
      "pTLoss: 2.0523095: 100%|███████████████████████████████████████████████████████████████| 58/58 [01:26<00:00,  1.50s/it]\n",
      "  0%|                                                                                           | 0/58 [00:00<?, ?it/s]"
     ]
    },
    {
     "name": "stdout",
     "output_type": "stream",
     "text": [
      "Min loss changed from 2.241777181625366 to 2.2407493273417156\n",
      "Epoch:  35/50 | Training pTLoss:  2.1296938616653978 | Testing pTLoss:  2.2407493273417156\n"
     ]
    },
    {
     "name": "stderr",
     "output_type": "stream",
     "text": [
      "pTLoss: 2.0503726: 100%|███████████████████████████████████████████████████████████████| 58/58 [01:48<00:00,  1.87s/it]\n",
      "  0%|                                                                                           | 0/58 [00:00<?, ?it/s]"
     ]
    },
    {
     "name": "stdout",
     "output_type": "stream",
     "text": [
      "Min loss changed from 2.2407493273417156 to 2.238966369628906\n",
      "Epoch:  36/50 | Training pTLoss:  2.1267667227777944 | Testing pTLoss:  2.238966369628906\n"
     ]
    },
    {
     "name": "stderr",
     "output_type": "stream",
     "text": [
      "pTLoss: 2.0479612: 100%|███████████████████████████████████████████████████████████████| 58/58 [01:47<00:00,  1.86s/it]\n",
      "  0%|                                                                                           | 0/58 [00:00<?, ?it/s]"
     ]
    },
    {
     "name": "stdout",
     "output_type": "stream",
     "text": [
      "Min loss changed from 2.238966369628906 to 2.2365836461385094\n",
      "Epoch:  37/50 | Training pTLoss:  2.124503302163091 | Testing pTLoss:  2.2365836461385094\n"
     ]
    },
    {
     "name": "stderr",
     "output_type": "stream",
     "text": [
      "pTLoss: 2.041567: 100%|████████████████████████████████████████████████████████████████| 58/58 [01:47<00:00,  1.86s/it]\n",
      "  0%|                                                                                           | 0/58 [00:00<?, ?it/s]"
     ]
    },
    {
     "name": "stdout",
     "output_type": "stream",
     "text": [
      "Min loss changed from 2.2365836461385094 to 2.235635995864868\n",
      "Epoch:  38/50 | Training pTLoss:  2.1217072092253586 | Testing pTLoss:  2.235635995864868\n"
     ]
    },
    {
     "name": "stderr",
     "output_type": "stream",
     "text": [
      "pTLoss: 2.0385413: 100%|███████████████████████████████████████████████████████████████| 58/58 [01:48<00:00,  1.87s/it]\n",
      "  0%|                                                                                           | 0/58 [00:00<?, ?it/s]"
     ]
    },
    {
     "name": "stdout",
     "output_type": "stream",
     "text": [
      "Min loss changed from 2.235635995864868 to 2.234046173095703\n",
      "Epoch:  39/50 | Training pTLoss:  2.1185422642477616 | Testing pTLoss:  2.234046173095703\n"
     ]
    },
    {
     "name": "stderr",
     "output_type": "stream",
     "text": [
      "pTLoss: 2.0353394: 100%|███████████████████████████████████████████████████████████████| 58/58 [01:42<00:00,  1.77s/it]\n",
      "  0%|                                                                                           | 0/58 [00:00<?, ?it/s]"
     ]
    },
    {
     "name": "stdout",
     "output_type": "stream",
     "text": [
      "Epoch:  40/50 | Training pTLoss:  2.1155632857618665 | Testing pTLoss:  2.2345340569814045\n"
     ]
    },
    {
     "name": "stderr",
     "output_type": "stream",
     "text": [
      "pTLoss: 2.03399: 100%|█████████████████████████████████████████████████████████████████| 58/58 [01:44<00:00,  1.79s/it]\n",
      "  0%|                                                                                           | 0/58 [00:00<?, ?it/s]"
     ]
    },
    {
     "name": "stdout",
     "output_type": "stream",
     "text": [
      "Epoch    41: reducing learning rate of group 0 to 6.2500e-04.\n",
      "Epoch:  41/50 | Training pTLoss:  2.113089676561027 | Testing pTLoss:  2.234995222091675\n"
     ]
    },
    {
     "name": "stderr",
     "output_type": "stream",
     "text": [
      "pTLoss: 2.0060465: 100%|███████████████████████████████████████████████████████████████| 58/58 [01:42<00:00,  1.77s/it]\n",
      "  0%|                                                                                           | 0/58 [00:00<?, ?it/s]"
     ]
    },
    {
     "name": "stdout",
     "output_type": "stream",
     "text": [
      "Epoch:  42/50 | Training pTLoss:  2.0989851437765976 | Testing pTLoss:  2.2359059333801268\n"
     ]
    },
    {
     "name": "stderr",
     "output_type": "stream",
     "text": [
      "pTLoss: 2.0049033: 100%|███████████████████████████████████████████████████████████████| 58/58 [01:42<00:00,  1.77s/it]\n",
      "  0%|                                                                                           | 0/58 [00:00<?, ?it/s]"
     ]
    },
    {
     "name": "stdout",
     "output_type": "stream",
     "text": [
      "Epoch    43: reducing learning rate of group 0 to 3.1250e-04.\n",
      "Epoch:  43/50 | Training pTLoss:  2.0940335680698525 | Testing pTLoss:  2.2367039839426677\n"
     ]
    },
    {
     "name": "stderr",
     "output_type": "stream",
     "text": [
      "pTLoss: 1.9883916: 100%|███████████████████████████████████████████████████████████████| 58/58 [01:43<00:00,  1.78s/it]\n",
      "  0%|                                                                                           | 0/58 [00:00<?, ?it/s]"
     ]
    },
    {
     "name": "stdout",
     "output_type": "stream",
     "text": [
      "Min loss changed from 2.234046173095703 to 2.218719228108724\n",
      "Epoch:  44/50 | Training pTLoss:  2.079568735484419 | Testing pTLoss:  2.218719228108724\n"
     ]
    },
    {
     "name": "stderr",
     "output_type": "stream",
     "text": [
      "pTLoss: 1.9859326: 100%|███████████████████████████████████████████████████████████████| 58/58 [01:45<00:00,  1.83s/it]\n",
      "  0%|                                                                                           | 0/58 [00:00<?, ?it/s]"
     ]
    },
    {
     "name": "stdout",
     "output_type": "stream",
     "text": [
      "Epoch:  45/50 | Training pTLoss:  2.0746730730451386 | Testing pTLoss:  2.2189329306284584\n"
     ]
    },
    {
     "name": "stderr",
     "output_type": "stream",
     "text": [
      "pTLoss: 1.9842829: 100%|███████████████████████████████████████████████████████████████| 58/58 [01:49<00:00,  1.89s/it]\n",
      "  0%|                                                                                           | 0/58 [00:00<?, ?it/s]"
     ]
    },
    {
     "name": "stdout",
     "output_type": "stream",
     "text": [
      "Epoch    46: reducing learning rate of group 0 to 1.5625e-04.\n",
      "Epoch:  46/50 | Training pTLoss:  2.073077906822337 | Testing pTLoss:  2.219063138961792\n"
     ]
    },
    {
     "name": "stderr",
     "output_type": "stream",
     "text": [
      "pTLoss: 1.976331: 100%|████████████████████████████████████████████████████████████████| 58/58 [01:49<00:00,  1.88s/it]\n",
      "  0%|                                                                                           | 0/58 [00:00<?, ?it/s]"
     ]
    },
    {
     "name": "stdout",
     "output_type": "stream",
     "text": [
      "Min loss changed from 2.218719228108724 to 2.213063987096151\n",
      "Epoch:  47/50 | Training pTLoss:  2.064596307688747 | Testing pTLoss:  2.213063987096151\n"
     ]
    },
    {
     "name": "stderr",
     "output_type": "stream",
     "text": [
      "pTLoss: 1.9739523: 100%|███████████████████████████████████████████████████████████████| 58/58 [01:53<00:00,  1.96s/it]\n",
      "  0%|                                                                                           | 0/58 [00:00<?, ?it/s]"
     ]
    },
    {
     "name": "stdout",
     "output_type": "stream",
     "text": [
      "Epoch:  48/50 | Training pTLoss:  2.063038678004824 | Testing pTLoss:  2.2134221394856772\n"
     ]
    },
    {
     "name": "stderr",
     "output_type": "stream",
     "text": [
      "pTLoss: 1.9729404: 100%|███████████████████████████████████████████████████████████████| 58/58 [01:51<00:00,  1.93s/it]\n",
      "  0%|                                                                                           | 0/58 [00:00<?, ?it/s]"
     ]
    },
    {
     "name": "stdout",
     "output_type": "stream",
     "text": [
      "Epoch    49: reducing learning rate of group 0 to 7.8125e-05.\n",
      "Epoch:  49/50 | Training pTLoss:  2.0620676854561126 | Testing pTLoss:  2.213593117396037\n"
     ]
    },
    {
     "name": "stderr",
     "output_type": "stream",
     "text": [
      "pTLoss: 1.9680057: 100%|███████████████████████████████████████████████████████████████| 58/58 [01:53<00:00,  1.95s/it]\n"
     ]
    },
    {
     "name": "stdout",
     "output_type": "stream",
     "text": [
      "Epoch:  50/50 | Training pTLoss:  2.058266002556373 | Testing pTLoss:  2.2147322018941247\n"
     ]
    }
   ],
   "source": [
    "device = torch.device('cuda' if torch.cuda.is_available() else 'cpu')\n",
    "# device = torch.device('cpu')\n",
    "batch_size = 2**14\n",
    "epochs = 50\n",
    "model = MPNN().to(device)\n",
    "optimizer = torch.optim.Adam(model.parameters(), lr=0.01, weight_decay=5e-4)\n",
    "# optimizer = Ranger(model.parameters(), lr=0.00005, weight_decay=5e-4) # loss: ~21\n",
    "# optimizer = RangerLars(model.parameters(), lr=0.01, weight_decay=5e-4)\n",
    "# optimizer = torch.optim.Adam(model.parameters(), lr=0.002, weight_decay=5e-4)\n",
    "lr_scheduler = torch.optim.lr_scheduler.ReduceLROnPlateau(optimizer, verbose=True, patience=1, factor=0.5)\n",
    "\n",
    "model_name = 'GNN_v19_road_vars_inv_' + str(inv) + '.pth'\n",
    "train_losses, test_losses = train(prog_bar=True)"
   ]
  },
  {
   "cell_type": "code",
   "execution_count": 28,
   "id": "eacf080d",
   "metadata": {},
   "outputs": [
    {
     "data": {
      "text/plain": [
       "<All keys matched successfully>"
      ]
     },
     "execution_count": 28,
     "metadata": {},
     "output_type": "execute_result"
    }
   ],
   "source": [
    "device = torch.device('cuda' if torch.cuda.is_available() else 'cpu')\n",
    "loaded_model = MPNN().to(device)\n",
    "rand_model = MPNN().to(device)\n",
    "loaded_model.load_state_dict(torch.load(model_name))"
   ]
  },
  {
   "cell_type": "code",
   "execution_count": 29,
   "id": "e29fc15a",
   "metadata": {},
   "outputs": [
    {
     "name": "stderr",
     "output_type": "stream",
     "text": [
      "100%|██████████████████████████████████████████████████████████████████████████████████| 15/15 [00:21<00:00,  1.41s/it]"
     ]
    },
    {
     "name": "stdout",
     "output_type": "stream",
     "text": [
      "Test_loss: 2.2147322018941247\n"
     ]
    },
    {
     "name": "stderr",
     "output_type": "stream",
     "text": [
      "\n"
     ]
    }
   ],
   "source": [
    "test_loader = DataLoader(MyDataset(indices=test_mask), batch_size=batch_size)\n",
    "# test\n",
    "test_los = 0\n",
    "preds = []\n",
    "preds2 = []\n",
    "for data in tqdm(test_loader,position=0):\n",
    "    data = data.to(device)\n",
    "    outputs1, outputs2 = model(data)\n",
    "    labels = data.y\n",
    "    loss = multitask_mse(outputs1, data.y) + scale*mse2(outputs2, 1/data.y)\n",
    "    preds.append(outputs1.cpu().detach())\n",
    "    preds2.append(outputs2.cpu().detach())\n",
    "    test_los += loss.cpu().detach().numpy()/len(test_loader)\n",
    "print('Test_loss: '+str(test_los))"
   ]
  },
  {
   "cell_type": "code",
   "execution_count": 30,
   "id": "c7f53239",
   "metadata": {},
   "outputs": [
    {
     "name": "stdout",
     "output_type": "stream",
     "text": [
      "Files saved!\n"
     ]
    }
   ],
   "source": [
    "# save to csv\n",
    "pred_ls = [float(i) for p in preds for i in p]\n",
    "pred_ls2 = [float(i) for p in preds2 for i in p]\n",
    "df_pred = pd.DataFrame(pred_ls)\n",
    "df_pred2 = pd.DataFrame(pred_ls2)\n",
    "df_pred.to_csv('GNN_v19_road_vars_inv_' + str(0) + '.csv')\n",
    "df_pred2.to_csv('GNN_v19_road_vars_inv_' + str(1) + '.csv')\n",
    "print('Files saved!')"
   ]
  },
  {
   "cell_type": "code",
   "execution_count": null,
   "id": "55e08bc9",
   "metadata": {},
   "outputs": [],
   "source": []
  },
  {
   "cell_type": "code",
   "execution_count": null,
   "id": "b0ff14f8",
   "metadata": {},
   "outputs": [],
   "source": []
  }
 ],
 "metadata": {
  "kernelspec": {
   "display_name": "Python 3",
   "language": "python",
   "name": "python3"
  },
  "language_info": {
   "codemirror_mode": {
    "name": "ipython",
    "version": 3
   },
   "file_extension": ".py",
   "mimetype": "text/x-python",
   "name": "python",
   "nbconvert_exporter": "python",
   "pygments_lexer": "ipython3",
   "version": "3.8.10"
  }
 },
 "nbformat": 4,
 "nbformat_minor": 5
}
