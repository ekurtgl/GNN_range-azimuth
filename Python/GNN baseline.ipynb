{
 "cells": [
  {
   "cell_type": "code",
   "execution_count": 1,
   "metadata": {},
   "outputs": [
    {
     "name": "stdout",
     "output_type": "stream",
     "text": [
      "1.9.0+cu102\n",
      "10.2\n"
     ]
    }
   ],
   "source": [
    "import torch\n",
    "print(torch.__version__)\n",
    "print(torch.version.cuda)"
   ]
  },
  {
   "cell_type": "code",
   "execution_count": 2,
   "metadata": {},
   "outputs": [],
   "source": [
    "from typing import Union, Tuple\n",
    "from torch_geometric.typing import OptPairTensor, Adj, Size # Optional[Tensor], Union[Tensor, SparseTensor], Optional[Tuple[int, int]], all about data type\n",
    "\n",
    "from torch import Tensor\n",
    "from torch.nn import Linear\n",
    "import torch.nn.functional as F\n",
    "from torch_sparse import SparseTensor, matmul\n",
    "from torch_geometric.nn.conv import MessagePassing"
   ]
  },
  {
   "cell_type": "code",
   "execution_count": 3,
   "metadata": {},
   "outputs": [],
   "source": [
    "import warnings\n",
    "warnings.filterwarnings(\"ignore\")\n",
    "import os\n",
    "import time\n",
    "import random\n",
    "from tqdm import tqdm\n",
    "import pandas as pd\n",
    "import numpy as np\n",
    "import matplotlib.pyplot as plt\n",
    "\n",
    "from joblib import Parallel, delayed\n",
    "\n",
    "from sklearn.preprocessing import StandardScaler, MinMaxScaler\n",
    "from sklearn.model_selection import train_test_split\n",
    "\n",
    "import torch\n",
    "import torch.nn.functional as F\n",
    "import torch_geometric.nn as gnn\n",
    "from torch_geometric.nn import MessagePassing, GCNConv\n",
    "from torch_geometric.data import Dataset, Data, DataLoader\n",
    "from torch_geometric.nn import global_mean_pool as gmeap, global_max_pool as gmp, global_add_pool as gap\n",
    "from torch_geometric.utils import softmax"
   ]
  },
  {
   "cell_type": "code",
   "execution_count": 4,
   "metadata": {},
   "outputs": [],
   "source": [
    "import scipy.io as sio\n",
    "import pickle, math\n",
    "import networkx as nx\n",
    "import numpy.matlib as matlib\n",
    "from matplotlib.collections import LineCollection\n",
    "from sklearn.preprocessing import StandardScaler\n",
    "from torchsummary import summary"
   ]
  },
  {
   "cell_type": "markdown",
   "metadata": {},
   "source": [
    "### GPU specs"
   ]
  },
  {
   "cell_type": "code",
   "execution_count": 5,
   "metadata": {
    "scrolled": true
   },
   "outputs": [
    {
     "name": "stdout",
     "output_type": "stream",
     "text": [
      "True\n",
      "0\n",
      "<torch.cuda.device object at 0x7fdedb4b9320>\n",
      "3\n",
      "TITAN V\n"
     ]
    }
   ],
   "source": [
    "print(torch.cuda.is_available())\n",
    "print(torch.cuda.current_device())\n",
    "print(torch.cuda.device(0))\n",
    "print(torch.cuda.device_count())\n",
    "print(torch.cuda.get_device_name(0))"
   ]
  },
  {
   "cell_type": "markdown",
   "metadata": {},
   "source": [
    "# Load data"
   ]
  },
  {
   "cell_type": "code",
   "execution_count": 6,
   "metadata": {},
   "outputs": [
    {
     "name": "stdout",
     "output_type": "stream",
     "text": [
      "(4000, 55, 256, 8)\n",
      "(4000, 20)\n",
      "(1000, 55, 256, 8)\n",
      "(1000, 20)\n"
     ]
    }
   ],
   "source": [
    "subj = 'RDAzimuth.pkl'\n",
    "filename = 'datasets/'+subj\n",
    "with open(filename, 'rb') as input:  # Overwrites any existing file.\n",
    "        x = pickle.load(input)\n",
    "x_tr, x_ts, y_tr, y_ts = [x[0], x[1], x[2], x[3]]\n",
    "print(x_tr.shape)\n",
    "print(y_tr.shape)\n",
    "print(x_ts.shape)\n",
    "print(y_ts.shape)"
   ]
  },
  {
   "cell_type": "code",
   "execution_count": 7,
   "metadata": {},
   "outputs": [
    {
     "name": "stdout",
     "output_type": "stream",
     "text": [
      "Num vertices of the graph: 440\n",
      "Num edges of the graph: 1634\n"
     ]
    }
   ],
   "source": [
    "adj_ls = []\n",
    "nodes = []\n",
    "node = 0\n",
    "for i in range(x_tr.shape[1]):\n",
    "    for j in range(x_tr.shape[3]):\n",
    "        \n",
    "        init_ids = np.array([node-x_tr.shape[1], node+x_tr.shape[1], node-1, node+1])\n",
    "        mask1 = np.logical_and(init_ids >= 0, init_ids < x_tr.shape[1] * x_tr.shape[3])\n",
    "        mask2 = np.ones((4,))\n",
    "        \n",
    "        if node % x_tr.shape[1] == x_tr.shape[1]-1: # if right edge\n",
    "            mask2[3] = 0\n",
    "        if node % x_tr.shape[1] == 0: # if left edge\n",
    "            mask2[2] = 0\n",
    "        if node < x_tr.shape[1]: # if top edge\n",
    "            mask2[0] = 0\n",
    "        if node >= x_tr.shape[1]*x_tr.shape[3]: # if bottom edge\n",
    "            mask2[1] = 0\n",
    "            \n",
    "        mask = np.logical_and(mask1, mask2)\n",
    "        neighs = [init_ids[m] for m in range(len(init_ids)) if mask[m] == True]\n",
    "        adj_ls.append([(node,n) for n in neighs])\n",
    "        node += 1\n",
    "print('Num vertices of the graph:',len(adj_ls))\n",
    "adj_ls = [a for ad in adj_ls for a in ad]\n",
    "print('Num edges of the graph:',len(adj_ls))"
   ]
  },
  {
   "cell_type": "code",
   "execution_count": 8,
   "metadata": {},
   "outputs": [],
   "source": [
    "# convert edges to mesh\n",
    "def edge2mesh(node,numcol):\n",
    "    div = node[0] // numcol\n",
    "    mod = node[0] % numcol\n",
    "    \n",
    "    div2 = node[1] // numcol\n",
    "    mod2 = node[1] % numcol\n",
    "    \n",
    "    return ((div+1, mod+1), (div2+1, mod2+1))"
   ]
  },
  {
   "cell_type": "code",
   "execution_count": 9,
   "metadata": {},
   "outputs": [],
   "source": [
    "mesh = [edge2mesh(a,x_tr.shape[1]) for a in sorted(adj_ls)]\n",
    "# for i in range(len(mesh)):\n",
    "#     print(mesh[i],'--',sorted(adj_ls[i]))"
   ]
  },
  {
   "cell_type": "code",
   "execution_count": 10,
   "metadata": {},
   "outputs": [
    {
     "name": "stdout",
     "output_type": "stream",
     "text": [
      "(394, 339) - ((8, 10), (7, 10))\n",
      "(394, 393) - ((8, 10), (8, 9))\n",
      "(394, 395) - ((8, 10), (8, 11))\n"
     ]
    }
   ],
   "source": [
    "for i,v in enumerate(sorted(adj_ls)):\n",
    "    if v[0] == 394:\n",
    "        print(v,'-',mesh[i])"
   ]
  },
  {
   "cell_type": "markdown",
   "metadata": {},
   "source": [
    "# Graph Structure"
   ]
  },
  {
   "cell_type": "code",
   "execution_count": 11,
   "metadata": {},
   "outputs": [
    {
     "name": "stderr",
     "output_type": "stream",
     "text": [
      "100%|██████████| 1634/1634 [00:16<00:00, 99.77it/s]\n"
     ]
    },
    {
     "data": {
      "image/png": "[encoded data removed]",
      "text/plain": [
       "<Figure size 1200x300 with 1 Axes>"
      ]
     },
     "metadata": {
      "needs_background": "light"
     },
     "output_type": "display_data"
    }
   ],
   "source": [
    "actual =[m[0] for m in mesh]\n",
    "neigh =[m[1] for m in mesh]\n",
    "plt.figure(figsize=(12,3),dpi=100)\n",
    "# plt.hold\n",
    "for i in tqdm(range(len(mesh)),position=0):\n",
    "    plt.scatter(actual[i][1],actual[i][0],s=5,c='b')\n",
    "    plt.scatter(neigh[i][1],neigh[i][0],s=5,c='b')\n",
    "    if actual[i][1] == neigh[i][1]:\n",
    "        if actual[i][0] < neigh[i][0]:\n",
    "            plt.vlines(actual[i][1],actual[i][0]+0.2,neigh[i][0]-0.2,'r')\n",
    "        if actual[i][0] > neigh[i][0]:\n",
    "            plt.vlines(actual[i][1],neigh[i][0]+0.2,actual[i][0]-0.2,'r')\n",
    "    if actual[i][0] == neigh[i][0]:\n",
    "        if actual[i][1] < neigh[i][1]:\n",
    "            plt.hlines(actual[i][0],actual[i][1]+0.3,neigh[i][1]-0.3,'r')\n",
    "        if actual[i][1] > neigh[i][1]:\n",
    "            plt.hlines(actual[i][0],neigh[i][1]+0.3,actual[i][1]-0.3,'r')"
   ]
  },
  {
   "cell_type": "code",
   "execution_count": 12,
   "metadata": {},
   "outputs": [],
   "source": [
    "# # Ready grid\n",
    "# x, y = np.meshgrid(np.linspace(0,x_tr.shape[1]-1, x_tr.shape[1]), np.linspace(0, x_tr.shape[3]-1, x_tr.shape[3]))\n",
    "\n",
    "# plt.figure(figsize=(12,3),dpi=100)\n",
    "# plt.scatter(x, y)\n",
    "\n",
    "# segs1 = np.stack((x,y), axis=2)\n",
    "# segs2 = segs1.transpose(1,0,2)\n",
    "# plt.gca().add_collection(LineCollection(segs1))\n",
    "# plt.gca().add_collection(LineCollection(segs2))\n",
    "# plt.show()"
   ]
  },
  {
   "cell_type": "code",
   "execution_count": 13,
   "metadata": {},
   "outputs": [
    {
     "name": "stdout",
     "output_type": "stream",
     "text": [
      "(5000, 55, 256, 8)\n",
      "(5000,)\n"
     ]
    }
   ],
   "source": [
    "# x_data = np.log10(abs(np.concatenate([x_tr, x_ts],0))+1e-9 / np.max(abs(np.concatenate([x_tr, x_ts],0))+1e-9))\n",
    "x_data = abs(np.concatenate([x_tr, x_ts],0)) / np.max(abs(np.concatenate([x_tr, x_ts],0)))\n",
    "y_data = np.argmax(np.concatenate([y_tr, y_ts],0),-1)\n",
    "print(x_data.shape)\n",
    "print(y_data.shape)"
   ]
  },
  {
   "cell_type": "code",
   "execution_count": 14,
   "metadata": {},
   "outputs": [
    {
     "name": "stdout",
     "output_type": "stream",
     "text": [
      "Max: 1.0 , Min: 0.0\n"
     ]
    }
   ],
   "source": [
    "print('Max:',np.max(x_data),', Min:',np.min(x_data))"
   ]
  },
  {
   "cell_type": "code",
   "execution_count": 15,
   "metadata": {},
   "outputs": [
    {
     "name": "stdout",
     "output_type": "stream",
     "text": [
      "Train start: 0 , Train end: 3999\n",
      "Test start: 4000 , Test end: 4999\n"
     ]
    }
   ],
   "source": [
    "train_mask = list(range(len(x_tr)))\n",
    "test_mask = list(range(len(x_tr),len(x_tr)+len(x_ts)))\n",
    "print('Train start:',min(train_mask),', Train end:',max(train_mask))\n",
    "print('Test start:',min(test_mask),', Test end:',max(test_mask))"
   ]
  },
  {
   "cell_type": "code",
   "execution_count": 23,
   "metadata": {},
   "outputs": [],
   "source": [
    "def process_data(i):\n",
    "#     data.x: Node feature matrix with shape [num_nodes, num_node_features]\n",
    "#     data.edge_index: Graph connectivity in COO format with shape [2, num_edges] and type torch.long\n",
    "#     data.edge_attr: Edge feature matrix with shape [num_edges, num_edge_features]\n",
    "#     data.y: Target to train against (may have arbitrary shape), e.g., node-level targets of shape \n",
    "#             [num_nodes, *] or graph-level targets of shape [1, *]\n",
    "#     data.pos: Node position matrix with shape [num_nodes, num_dimensions]\n",
    "\n",
    "    data = Data(x=torch.tensor(x_data[i].reshape(-1,x_data.shape[1]*x_data.shape[3]).T, dtype=torch.float), y=torch.tensor(y_data[i], dtype=torch.long),\n",
    "                edge_index=torch.tensor(adj_ls, dtype = torch.long).T)\n",
    "    return data"
   ]
  },
  {
   "cell_type": "markdown",
   "metadata": {},
   "source": [
    "# GNN"
   ]
  },
  {
   "cell_type": "markdown",
   "metadata": {},
   "source": [
    "https://pytorch-geometric.readthedocs.io/en/latest/notes/introduction.html#data-handling-of-graphs"
   ]
  },
  {
   "cell_type": "markdown",
   "metadata": {},
   "source": [
    "The constructor defines two GCNConv layers which get called in the forward pass of our network.\n",
    "Note that the non-linearity is not integrated in the conv calls and hence needs to be applied afterwards (something which is consistent accross all operators in PyG). Here, we chose to use ReLU as our intermediate non-linearity and finally output a softmax distribution over the number of classes. "
   ]
  },
  {
   "cell_type": "code",
   "execution_count": 17,
   "metadata": {},
   "outputs": [],
   "source": [
    "# # model to make prediction for each node\n",
    "# class GCN(torch.nn.Module):\n",
    "#     def __init__(self):\n",
    "#         super().__init__()\n",
    "#         self.conv1 = GCNConv(x_data.shape[2], 16)\n",
    "#         self.conv2 = GCNConv(16, len(np.unique(y_data)))\n",
    "#         self.pool1 = torch.nn.Linear()\n",
    "#     def forward(self, data):\n",
    "#         x, edge_index, batch = data.x, data.edge_index, data.batch\n",
    "\n",
    "#         x = self.conv1(x, edge_index)\n",
    "#         x = F.relu(x)\n",
    "#         x = F.dropout(x, training=self.training)\n",
    "#         x = self.conv2(x, edge_index)\n",
    "\n",
    "#         return F.softmax(x, dim=1)"
   ]
  },
  {
   "cell_type": "code",
   "execution_count": 24,
   "metadata": {},
   "outputs": [],
   "source": [
    "# model to make prediction for the whole graph\n",
    "class GCN(torch.nn.Module):\n",
    "    def __init__(self):\n",
    "        super().__init__()\n",
    "        self.conv1 = GCNConv(x_data.shape[2], 64, add_self_loops=True, improved=True)\n",
    "        self.conv2 = GCNConv(64, 64, add_self_loops=True, improved=True)\n",
    "#         self.pool1 = gnn.GlobalAttention(torch.nn.Sequential(torch.nn.Linear(64,1)))\n",
    "#         self.pool1 = gnn.global_add_pool(self.x, self.batch)\n",
    "#         self.lin1 = torch.nn.Linear(len(np.unique(y_data)),1)\n",
    "    def forward(self, data):\n",
    "        x, edge_index, batch = data.x, data.edge_index, data.batch\n",
    "        \n",
    "        x = self.conv1(x, edge_index)\n",
    "        x = F.relu(x)\n",
    "        x = F.dropout(x, training=self.training)\n",
    "        x = self.conv2(x, edge_index)\n",
    "#         x = self.pool1(x, batch)\n",
    "        x = gmp(x, batch)\n",
    "        return F.softmax(x, dim=-1)#.squeeze()"
   ]
  },
  {
   "cell_type": "code",
   "execution_count": 25,
   "metadata": {},
   "outputs": [],
   "source": [
    "class MyDataset(Dataset):\n",
    "    def __init__(self, indices=list(range(len(x_data))), transform=None):\n",
    "        self.transform = transform\n",
    "        self.indices = indices\n",
    "    \n",
    "    def __getitem__(self, idx):\n",
    "        return process_data(self.indices[idx])\n",
    "    \n",
    "    def __len__(self):\n",
    "        return len(self.indices)"
   ]
  },
  {
   "cell_type": "markdown",
   "metadata": {},
   "source": [
    "# Train"
   ]
  },
  {
   "cell_type": "code",
   "execution_count": 26,
   "metadata": {},
   "outputs": [],
   "source": [
    "def train(prog_bar = True):\n",
    "    \n",
    "    train_losses, test_losses = [], []\n",
    "    max_test_acc = 0\n",
    "    train_loader = DataLoader(MyDataset(indices=train_mask), batch_size=batch_size)\n",
    "    test_loader = DataLoader(MyDataset(indices=test_mask), batch_size=batch_size)\n",
    "    tr_acc_ls = []\n",
    "    ts_acc_ls = []\n",
    "    pred_ls = []\n",
    "    for epoch in range(epochs):\n",
    "        train_loss = 0\n",
    "        test_loss = 0\n",
    "        if prog_bar:\n",
    "            pbar = tqdm(train_loader,position=0)\n",
    "        else:\n",
    "            pbar = train_loader\n",
    "        tr_acc = []\n",
    "        ts_acc = []\n",
    "        # train\n",
    "        for data in pbar:\n",
    "            data = data.to(device)\n",
    "            optimizer.zero_grad()\n",
    "            output = model(data)\n",
    "#             print('out',output.shape)\n",
    "#             print('data.y',data.y.shape)\n",
    "            loss = F.cross_entropy(output, data.y) #.reshape(batch_size,y_data.shape[-1])\n",
    "            loss.backward()\n",
    "            optimizer.step()\n",
    "            tr_acc.append((data.y.cpu().detach().numpy() == np.argmax(output.cpu().detach().numpy(),-1)).sum() / batch_size)\n",
    "            if prog_bar:\n",
    "                pbar.set_description('Train Acc: '+str(tr_acc[-1]))\n",
    "            train_loss += loss.cpu().detach().numpy()/len(train_loader)\n",
    "        tr_acc_ls.append(tr_acc)      \n",
    "        \n",
    "        # test\n",
    "        pred = []\n",
    "        for data in test_loader:\n",
    "            data = data.to(device)\n",
    "            optimizer.zero_grad()\n",
    "            output = model(data)\n",
    "            loss = F.cross_entropy(output, data.y)\n",
    "            test_loss += loss.cpu().detach().numpy()/len(test_loader)\n",
    "            pred.append(output.cpu().detach().numpy())\n",
    "            ts_acc.append((data.y.cpu().detach().numpy() == np.argmax(output.cpu().detach().numpy(),-1)).sum() / batch_size)\n",
    "        if ts_acc[-1] < max_test_acc:\n",
    "            print('Max acc changed from '+str(max_test_acc)+' to '+str(ts_acc[-1]))\n",
    "            max_test_acc = ts_acc[-1]\n",
    "            torch.save(model.state_dict(), model_name)\n",
    "        pred_ls.append(pred)\n",
    "        ts_acc_ls.append(ts_acc) \n",
    "        train_losses.append(train_loss)\n",
    "        test_losses.append(test_loss)\n",
    "        if epoch > 10 and np.mean(ts_acc_ls[-7:]) < max_test_acc + 1e9: # early stop\n",
    "            break\n",
    "        lr_scheduler.step(test_loss)\n",
    "        print('Epoch: ', str(epoch+1)+'/'+str(epochs),'| Training acc: ', np.mean(tr_acc_ls[-1]),\\\n",
    "              '| Testing acc: ', np.mean(ts_acc_ls[-1]))\n",
    "        \n",
    "        if not prog_bar:\n",
    "            plt.plot(train_losses, label=\"Train Loss\")\n",
    "            plt.plot(test_losses, label=\"Validation Loss\")\n",
    "            plt.xlabel(\"# Epoch\")\n",
    "            plt.ylabel(\"Loss\")\n",
    "            plt.legend(loc='upper right')\n",
    "            plt.show()\n",
    "    return train_losses, test_losses, tr_acc_ls, ts_acc_ls, pred_ls"
   ]
  },
  {
   "cell_type": "code",
   "execution_count": 29,
   "metadata": {},
   "outputs": [
    {
     "name": "stderr",
     "output_type": "stream",
     "text": [
      "Train Acc: 0.060546875: 100%|██████████| 4/4 [00:51<00:00, 12.84s/it] \n",
      "  0%|          | 0/4 [00:00<?, ?it/s]"
     ]
    },
    {
     "name": "stdout",
     "output_type": "stream",
     "text": [
      "Epoch:  1/50 | Training acc:  0.051513671875 | Testing acc:  0.06640625\n"
     ]
    },
    {
     "name": "stderr",
     "output_type": "stream",
     "text": [
      "Train Acc: 0.0576171875: 100%|██████████| 4/4 [00:52<00:00, 13.14s/it]\n",
      "  0%|          | 0/4 [00:00<?, ?it/s]"
     ]
    },
    {
     "name": "stdout",
     "output_type": "stream",
     "text": [
      "Epoch:  2/50 | Training acc:  0.05908203125 | Testing acc:  0.0654296875\n"
     ]
    },
    {
     "name": "stderr",
     "output_type": "stream",
     "text": [
      "Train Acc: 0.076171875: 100%|██████████| 4/4 [00:51<00:00, 12.80s/it]\n",
      "  0%|          | 0/4 [00:00<?, ?it/s]"
     ]
    },
    {
     "name": "stdout",
     "output_type": "stream",
     "text": [
      "Epoch:  3/50 | Training acc:  0.0693359375 | Testing acc:  0.0869140625\n"
     ]
    },
    {
     "name": "stderr",
     "output_type": "stream",
     "text": [
      "Train Acc: 0.0771484375: 100%|██████████| 4/4 [00:48<00:00, 12.06s/it]\n",
      "  0%|          | 0/4 [00:00<?, ?it/s]"
     ]
    },
    {
     "name": "stdout",
     "output_type": "stream",
     "text": [
      "Epoch:  4/50 | Training acc:  0.073974609375 | Testing acc:  0.087890625\n"
     ]
    },
    {
     "name": "stderr",
     "output_type": "stream",
     "text": [
      "Train Acc: 0.0771484375: 100%|██████████| 4/4 [00:49<00:00, 12.43s/it]\n",
      "  0%|          | 0/4 [00:00<?, ?it/s]"
     ]
    },
    {
     "name": "stdout",
     "output_type": "stream",
     "text": [
      "Epoch:  5/50 | Training acc:  0.073974609375 | Testing acc:  0.087890625\n"
     ]
    },
    {
     "name": "stderr",
     "output_type": "stream",
     "text": [
      "Train Acc: 0.0771484375: 100%|██████████| 4/4 [00:49<00:00, 12.32s/it]\n",
      "  0%|          | 0/4 [00:00<?, ?it/s]"
     ]
    },
    {
     "name": "stdout",
     "output_type": "stream",
     "text": [
      "Epoch:  6/50 | Training acc:  0.073974609375 | Testing acc:  0.087890625\n"
     ]
    },
    {
     "name": "stderr",
     "output_type": "stream",
     "text": [
      "Train Acc: 0.0771484375: 100%|██████████| 4/4 [00:47<00:00, 11.93s/it]\n",
      "  0%|          | 0/4 [00:00<?, ?it/s]"
     ]
    },
    {
     "name": "stdout",
     "output_type": "stream",
     "text": [
      "Epoch:  7/50 | Training acc:  0.073974609375 | Testing acc:  0.087890625\n"
     ]
    },
    {
     "name": "stderr",
     "output_type": "stream",
     "text": [
      "Train Acc: 0.0771484375: 100%|██████████| 4/4 [00:51<00:00, 12.82s/it]\n",
      "  0%|          | 0/4 [00:00<?, ?it/s]"
     ]
    },
    {
     "name": "stdout",
     "output_type": "stream",
     "text": [
      "Epoch:  8/50 | Training acc:  0.073974609375 | Testing acc:  0.087890625\n"
     ]
    },
    {
     "name": "stderr",
     "output_type": "stream",
     "text": [
      "Train Acc: 0.0771484375: 100%|██████████| 4/4 [00:50<00:00, 12.52s/it]\n",
      "  0%|          | 0/4 [00:00<?, ?it/s]"
     ]
    },
    {
     "name": "stdout",
     "output_type": "stream",
     "text": [
      "Epoch:  9/50 | Training acc:  0.073974609375 | Testing acc:  0.087890625\n"
     ]
    },
    {
     "name": "stderr",
     "output_type": "stream",
     "text": [
      "Train Acc: 0.0771484375: 100%|██████████| 4/4 [00:48<00:00, 12.04s/it]\n",
      "  0%|          | 0/4 [00:00<?, ?it/s]"
     ]
    },
    {
     "name": "stdout",
     "output_type": "stream",
     "text": [
      "Epoch:  10/50 | Training acc:  0.073974609375 | Testing acc:  0.087890625\n"
     ]
    },
    {
     "name": "stderr",
     "output_type": "stream",
     "text": [
      "Train Acc: 0.0771484375: 100%|██████████| 4/4 [00:48<00:00, 12.13s/it]\n",
      "  0%|          | 0/4 [00:00<?, ?it/s]"
     ]
    },
    {
     "name": "stdout",
     "output_type": "stream",
     "text": [
      "Epoch:  11/50 | Training acc:  0.073974609375 | Testing acc:  0.087890625\n"
     ]
    },
    {
     "name": "stderr",
     "output_type": "stream",
     "text": [
      "Train Acc: 0.0771484375: 100%|██████████| 4/4 [00:48<00:00, 12.02s/it]\n"
     ]
    }
   ],
   "source": [
    "device = torch.device('cuda' if torch.cuda.is_available() else 'cpu')\n",
    "device = 'cpu'\n",
    "batch_size = 2**10\n",
    "epochs = 50\n",
    "model = GCN().to(device)\n",
    "optimizer = torch.optim.Adam(model.parameters(), lr=0.01, weight_decay=5e-4)\n",
    "lr_scheduler = torch.optim.lr_scheduler.ReduceLROnPlateau(optimizer, verbose=True, patience=3, factor=0.5)\n",
    "\n",
    "model_name = 'models/GNN_baseline' + subj[:-4] + '.pth'\n",
    "train_losses, test_losses, tr_acc_ls, ts_acc_ls, pred_ls = train(prog_bar=True)"
   ]
  },
  {
   "cell_type": "markdown",
   "metadata": {},
   "source": [
    "Restart notebook if \"RuntimeError: CUDA error: device-side assert triggered CUDA kernel errors might be asynchronously reported at some other API call,so the stacktrace below might be incorrect.\n",
    "For debugging consider passing CUDA_LAUNCH_BLOCKING=1.\""
   ]
  },
  {
   "cell_type": "code",
   "execution_count": null,
   "metadata": {},
   "outputs": [],
   "source": [
    "pred_ls[-1][0][0]"
   ]
  },
  {
   "cell_type": "code",
   "execution_count": null,
   "metadata": {},
   "outputs": [],
   "source": [
    "pred_ls[-2][0][0]"
   ]
  },
  {
   "cell_type": "code",
   "execution_count": null,
   "metadata": {},
   "outputs": [],
   "source": []
  },
  {
   "cell_type": "code",
   "execution_count": null,
   "metadata": {},
   "outputs": [],
   "source": []
  },
  {
   "cell_type": "code",
   "execution_count": null,
   "metadata": {},
   "outputs": [],
   "source": []
  },
  {
   "cell_type": "code",
   "execution_count": null,
   "metadata": {},
   "outputs": [],
   "source": []
  },
  {
   "cell_type": "code",
   "execution_count": null,
   "metadata": {},
   "outputs": [],
   "source": []
  },
  {
   "cell_type": "code",
   "execution_count": null,
   "metadata": {},
   "outputs": [],
   "source": []
  },
  {
   "cell_type": "code",
   "execution_count": null,
   "metadata": {},
   "outputs": [],
   "source": []
  }
 ],
 "metadata": {
  "kernelspec": {
   "display_name": "Python 3",
   "language": "python",
   "name": "python3"
  },
  "language_info": {
   "codemirror_mode": {
    "name": "ipython",
    "version": 3
   },
   "file_extension": ".py",
   "mimetype": "text/x-python",
   "name": "python",
   "nbconvert_exporter": "python",
   "pygments_lexer": "ipython3",
   "version": "3.8.10"
  }
 },
 "nbformat": 4,
 "nbformat_minor": 2
}
